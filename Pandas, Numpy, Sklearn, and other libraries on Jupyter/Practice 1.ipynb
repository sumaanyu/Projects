{
 "cells": [
  {
   "cell_type": "code",
   "execution_count": 16,
   "metadata": {},
   "outputs": [],
   "source": [
    "import numpy as np\n",
    "import seaborn as sns"
   ]
  },
  {
   "cell_type": "code",
   "execution_count": 43,
   "metadata": {},
   "outputs": [
    {
     "name": "stdout",
     "output_type": "stream",
     "text": [
      "Mean of fair dice 3.4999\n",
      "Mean of loaded dice 4.2582\n",
      "\n",
      "Mean of Y(fair dice and loaded dice): 14.8933\n",
      "Variance of Y(fair dice and loaded dice): 85.54431510999999\n"
     ]
    },
    {
     "data": {
      "image/png": "[encoded data removed]",
      "text/plain": [
       "<Figure size 432x288 with 1 Axes>"
      ]
     },
     "metadata": {},
     "output_type": "display_data"
    }
   ],
   "source": [
    "nums = np.arange(0,6)\n",
    "prob_bins_X1 = np.linspace(0,1,7)\n",
    "prob_bins_X2 = np.cumsum(np.array([0, 1/16 , 1/16 , 3/16 , 3/16 , 4/16 , 4/16]))\n",
    "total_X1 = []\n",
    "total_X2 = []\n",
    "for i in range(10000):\n",
    "    x = np.random.uniform(0,1)\n",
    "    for i in nums:\n",
    "        if x > prob_bins_X1[i] and x <= prob_bins_X1[i+1]:\n",
    "            total_X1.append(i+1)\n",
    "            \n",
    "for i in range(10000):\n",
    "    x = np.random.uniform(0,1)\n",
    "    for j in nums:\n",
    "        if x > prob_bins_X2[j] and x <= prob_bins_X2[j+1]:\n",
    "            total_X2.append(j+1) \n",
    "            \n",
    "print('Mean of fair dice', np.mean(total_X1))\n",
    "print('Mean of loaded dice',np.mean(total_X2))\n",
    "print() \n",
    "total_Y = np.array(total_X1)*np.array(total_X2)\n",
    "E_Y = np.mean(total_Y)\n",
    "Var_Y = np.var(total_Y)\n",
    "print(\"Mean of Y(fair dice and loaded dice):\", E_Y)\n",
    "print(\"Variance of Y(fair dice and loaded dice):\", Var_Y)\n",
    "sns.distplot(total_Y);"
   ]
  }
 ],
 "metadata": {
  "kernelspec": {
   "display_name": "Python 3",
   "language": "python",
   "name": "python3"
  },
  "language_info": {
   "codemirror_mode": {
    "name": "ipython",
    "version": 3
   },
   "file_extension": ".py",
   "mimetype": "text/x-python",
   "name": "python",
   "nbconvert_exporter": "python",
   "pygments_lexer": "ipython3",
   "version": "3.6.4"
  }
 },
 "nbformat": 4,
 "nbformat_minor": 2
}
