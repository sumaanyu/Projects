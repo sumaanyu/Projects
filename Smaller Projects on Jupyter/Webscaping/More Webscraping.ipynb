{
 "cells": [
  {
   "cell_type": "markdown",
   "metadata": {},
   "source": [
    "### Fun with Webscraping & Text manipulation\n"
   ]
  },
  {
   "cell_type": "markdown",
   "metadata": {
    "collapsed": true
   },
   "source": [
    "## Statistics in Presidential Debates\n",
    "\n",
    "Scraping Presidential Debates from the Commission of Presidential Debates website: https://www.debates.org/voter-education/debate-transcripts/\n",
    "\n",
    "I will not allowed to manually look up the URLs that you need, instead I will scrape them!! The root url to be scraped is the one listed above.\n",
    "\n",
    "1. By using `requests` and `BeautifulSoup` I will find all the links / URLs on the website that links to transcriptions of **First Presidential Debates** from the years [1988, 1984, 1976, 1960]. \n",
    "\n",
    "2. When I have a list of the URLs I will create a Data Frame with some statistics"
   ]
  },
  {
   "cell_type": "code",
   "execution_count": 740,
   "metadata": {
    "collapsed": true
   },
   "outputs": [],
   "source": [
    "import requests\n",
    "import bs4 as bs\n",
    "import string\n",
    "import pandas as pd\n",
    "import re\n",
    "from collections import Counter\n",
    "from urllib.request import urlopen"
   ]
  },
  {
   "cell_type": "code",
   "execution_count": 741,
   "metadata": {},
   "outputs": [],
   "source": [
    "source = requests.get(\"https://www.debates.org/voter-education/debate-transcripts/\").content\n",
    "soup = bs.BeautifulSoup(source, 'html.parser') "
   ]
  },
  {
   "cell_type": "code",
   "execution_count": 742,
   "metadata": {},
   "outputs": [
    {
     "name": "stdout",
     "output_type": "stream",
     "text": [
      "\n",
      "URL for September 25, 1988: The First Bush-Dukakis Presidential Debate:  \n",
      "https://www.debates.org//voter-education/debate-transcripts/september-25-1988-debate-transcript/\n",
      "\n",
      "URL for October 7, 1984: The First Reagan-Mondale Presidential Debate:  \n",
      "https://www.debates.org//voter-education/debate-transcripts/october-7-1984-debate-transcript/\n",
      "\n",
      "URL for September 23, 1976: The First Carter-Ford Presidential Debate:  \n",
      "https://www.debates.org//voter-education/debate-transcripts/september-23-1976-debate-transcript/\n",
      "\n",
      "URL for September 26, 1960: The First Kennedy-Nixon Presidential Debate:  \n",
      "https://www.debates.org//voter-education/debate-transcripts/september-26-1960-debate-transcript/\n"
     ]
    }
   ],
   "source": [
    "fd = []\n",
    "fdl = []\n",
    "for cont in soup.find(id = \"content-sm\").find_all('a'):\n",
    "    for j in years:\n",
    "        if '%d' %j in cont.string:\n",
    "            if 'The First' in cont.string:\n",
    "                fd.append(cont.string)\n",
    "                fdl.append(cont.get('href'))\n",
    "                print(\"\\nURL for {}: \".format(cont.text), \"\\nhttps://www.debates.org/{}\".format(cont.get('href'))) "
   ]
  },
  {
   "cell_type": "code",
   "execution_count": 743,
   "metadata": {},
   "outputs": [
    {
     "data": {
      "text/html": [
       "<div>\n",
       "<style scoped>\n",
       "    .dataframe tbody tr th:only-of-type {\n",
       "        vertical-align: middle;\n",
       "    }\n",
       "\n",
       "    .dataframe tbody tr th {\n",
       "        vertical-align: top;\n",
       "    }\n",
       "\n",
       "    .dataframe thead th {\n",
       "        text-align: right;\n",
       "    }\n",
       "</style>\n",
       "<table border=\"1\" class=\"dataframe\">\n",
       "  <thead>\n",
       "    <tr style=\"text-align: right;\">\n",
       "      <th></th>\n",
       "      <th>September 25, 1988: The First Bush-Dukakis Presidential Debate</th>\n",
       "      <th>October 7, 1984: The First Reagan-Mondale Presidential Debate</th>\n",
       "      <th>September 23, 1976: The First Carter-Ford Presidential Debate</th>\n",
       "      <th>September 26, 1960: The First Kennedy-Nixon Presidential Debate</th>\n",
       "    </tr>\n",
       "  </thead>\n",
       "  <tbody>\n",
       "    <tr>\n",
       "      <th>Debate char length</th>\n",
       "      <td>87489</td>\n",
       "      <td>86799</td>\n",
       "      <td>80168</td>\n",
       "      <td>60274</td>\n",
       "    </tr>\n",
       "    <tr>\n",
       "      <th>war_count</th>\n",
       "      <td>7</td>\n",
       "      <td>2</td>\n",
       "      <td>7</td>\n",
       "      <td>3</td>\n",
       "    </tr>\n",
       "    <tr>\n",
       "      <th>most_common_w</th>\n",
       "      <td>the</td>\n",
       "      <td>the</td>\n",
       "      <td>the</td>\n",
       "      <td>the</td>\n",
       "    </tr>\n",
       "    <tr>\n",
       "      <th>most_common_w_count</th>\n",
       "      <td>805</td>\n",
       "      <td>868</td>\n",
       "      <td>858</td>\n",
       "      <td>780</td>\n",
       "    </tr>\n",
       "  </tbody>\n",
       "</table>\n",
       "</div>"
      ],
      "text/plain": [
       "                    September 25, 1988: The First Bush-Dukakis Presidential Debate  \\\n",
       "Debate char length                                               87489               \n",
       "war_count                                                            7               \n",
       "most_common_w                                                      the               \n",
       "most_common_w_count                                                805               \n",
       "\n",
       "                    October 7, 1984: The First Reagan-Mondale Presidential Debate  \\\n",
       "Debate char length                                               86799              \n",
       "war_count                                                            2              \n",
       "most_common_w                                                      the              \n",
       "most_common_w_count                                                868              \n",
       "\n",
       "                    September 23, 1976: The First Carter-Ford Presidential Debate  \\\n",
       "Debate char length                                               80168              \n",
       "war_count                                                            7              \n",
       "most_common_w                                                      the              \n",
       "most_common_w_count                                                858              \n",
       "\n",
       "                    September 26, 1960: The First Kennedy-Nixon Presidential Debate  \n",
       "Debate char length                                               60274               \n",
       "war_count                                                            3               \n",
       "most_common_w                                                      the               \n",
       "most_common_w_count                                                780               "
      ]
     },
     "execution_count": 743,
     "metadata": {},
     "output_type": "execute_result"
    }
   ],
   "source": [
    "df = pd.DataFrame(columns = fd, index = [\"Debate char length\",\"war_count\",\"most_common_w\",\"most_common_w_count\"])\n",
    "\n",
    "aa = []\n",
    "for link in fdl:\n",
    "    aa.append(\"https://www.debates.org/{}\".format(link))\n",
    "c = 0    \n",
    "for link in aa:\n",
    "    source = requests.get(link)\n",
    "    soup = bs.BeautifulSoup(source.content, features='lxml')\n",
    "    #############\n",
    "    char = []\n",
    "    for i in soup.find_all('p'):\n",
    "        char.append(i.text)    \n",
    "    char_length = len(str(char)) - 1000 #removing breaklines ~ just an estimate /n\n",
    "    df.iloc[0,c] = char_length\n",
    "    ##############\n",
    "    war_count = 0\n",
    "    for word in str(char).split():\n",
    "        for i in string.punctuation:\n",
    "            word = word.replace(i,\"\")\n",
    "        if word == \"War\" or word == \"war\":\n",
    "            war_count += 1\n",
    "    df.iloc[1,c] = war_count\n",
    "    ##############\n",
    "    words = re.findall(r'\\w+', str(char).lower())\n",
    "    counts = Counter(words)\n",
    "    aaa = counts.most_common(1) \n",
    "    df.iloc[2,c] = aaa[0][0]\n",
    "    df.iloc[3,c] = aaa[0][1]\n",
    "    ##############\n",
    "    c += 1\n",
    "df "
   ]
  },
  {
   "cell_type": "markdown",
   "metadata": {},
   "source": [
    "    \n",
    "## Now, Let's do something more interesting! \n",
    "I will scrape the first 27 data sets from this URL http://people.sc.fsu.edu/~jburkardt/datasets/regression/. Then, I will save the 5th line in each data set, this should be the name of the data set author. I will also need to get rid of the `#` symbol, the white spaces and the comma at the end."
   ]
  },
  {
   "cell_type": "code",
   "execution_count": 744,
   "metadata": {},
   "outputs": [],
   "source": [
    "source = requests.get(\"http://people.sc.fsu.edu/~jburkardt/datasets/regression/\").content\n",
    "soup = bs.BeautifulSoup(source, features='lxml')"
   ]
  },
  {
   "cell_type": "code",
   "execution_count": 746,
   "metadata": {},
   "outputs": [
    {
     "data": {
      "text/plain": [
       "['http://people.sc.fsu.edu/~jburkardt/datasets/regression/x01.txt',\n",
       " 'http://people.sc.fsu.edu/~jburkardt/datasets/regression/x02.txt',\n",
       " 'http://people.sc.fsu.edu/~jburkardt/datasets/regression/x03.txt',\n",
       " 'http://people.sc.fsu.edu/~jburkardt/datasets/regression/x04.txt',\n",
       " 'http://people.sc.fsu.edu/~jburkardt/datasets/regression/x05.txt',\n",
       " 'http://people.sc.fsu.edu/~jburkardt/datasets/regression/x06.txt',\n",
       " 'http://people.sc.fsu.edu/~jburkardt/datasets/regression/x07.txt',\n",
       " 'http://people.sc.fsu.edu/~jburkardt/datasets/regression/x08.txt',\n",
       " 'http://people.sc.fsu.edu/~jburkardt/datasets/regression/x09.txt',\n",
       " 'http://people.sc.fsu.edu/~jburkardt/datasets/regression/x10.txt',\n",
       " 'http://people.sc.fsu.edu/~jburkardt/datasets/regression/x11.txt',\n",
       " 'http://people.sc.fsu.edu/~jburkardt/datasets/regression/x12.txt',\n",
       " 'http://people.sc.fsu.edu/~jburkardt/datasets/regression/x13.txt',\n",
       " 'http://people.sc.fsu.edu/~jburkardt/datasets/regression/x14.txt',\n",
       " 'http://people.sc.fsu.edu/~jburkardt/datasets/regression/x15.txt',\n",
       " 'http://people.sc.fsu.edu/~jburkardt/datasets/regression/x16.txt',\n",
       " 'http://people.sc.fsu.edu/~jburkardt/datasets/regression/x17.txt',\n",
       " 'http://people.sc.fsu.edu/~jburkardt/datasets/regression/x18.txt',\n",
       " 'http://people.sc.fsu.edu/~jburkardt/datasets/regression/x19.txt',\n",
       " 'http://people.sc.fsu.edu/~jburkardt/datasets/regression/x20.txt',\n",
       " 'http://people.sc.fsu.edu/~jburkardt/datasets/regression/x21.txt',\n",
       " 'http://people.sc.fsu.edu/~jburkardt/datasets/regression/x22.txt',\n",
       " 'http://people.sc.fsu.edu/~jburkardt/datasets/regression/x23.txt',\n",
       " 'http://people.sc.fsu.edu/~jburkardt/datasets/regression/x24.txt',\n",
       " 'http://people.sc.fsu.edu/~jburkardt/datasets/regression/x25.txt',\n",
       " 'http://people.sc.fsu.edu/~jburkardt/datasets/regression/x26.txt',\n",
       " 'http://people.sc.fsu.edu/~jburkardt/datasets/regression/x27.txt']"
      ]
     },
     "execution_count": 746,
     "metadata": {},
     "output_type": "execute_result"
    }
   ],
   "source": [
    "links = soup.find('table').find_all('a')\n",
    "full_links = [\"http://people.sc.fsu.edu/~jburkardt/datasets/regression/\" + i.get('href') for i in links][6:33]\n",
    "full_links"
   ]
  },
  {
   "cell_type": "code",
   "execution_count": 747,
   "metadata": {},
   "outputs": [],
   "source": [
    "authors = []\n",
    "for j in full_links:\n",
    "    file = urlopen(j)\n",
    "    author = (list(file))[4]\n",
    "    authors.append(author)"
   ]
  },
  {
   "cell_type": "code",
   "execution_count": 748,
   "metadata": {},
   "outputs": [],
   "source": [
    "authors = re.findall(r'(?<=#)[^,]+(?=,)', str(authors)) "
   ]
  },
  {
   "cell_type": "code",
   "execution_count": 749,
   "metadata": {},
   "outputs": [],
   "source": [
    "df2 = pd.DataFrame(index = Counter(authors).keys())\n",
    "df2['Counts'] = Counter(authors).values()\n",
    "df2.index.name = 'Authors'\n",
    "df2 = df2.sort_values(by = 'Counts', ascending = False)"
   ]
  },
  {
   "cell_type": "code",
   "execution_count": 750,
   "metadata": {},
   "outputs": [
    {
     "data": {
      "text/html": [
       "<div>\n",
       "<style scoped>\n",
       "    .dataframe tbody tr th:only-of-type {\n",
       "        vertical-align: middle;\n",
       "    }\n",
       "\n",
       "    .dataframe tbody tr th {\n",
       "        vertical-align: top;\n",
       "    }\n",
       "\n",
       "    .dataframe thead th {\n",
       "        text-align: right;\n",
       "    }\n",
       "</style>\n",
       "<table border=\"1\" class=\"dataframe\">\n",
       "  <thead>\n",
       "    <tr style=\"text-align: right;\">\n",
       "      <th></th>\n",
       "      <th>Counts</th>\n",
       "    </tr>\n",
       "    <tr>\n",
       "      <th>Authors</th>\n",
       "      <th></th>\n",
       "    </tr>\n",
       "  </thead>\n",
       "  <tbody>\n",
       "    <tr>\n",
       "      <th>Helmut Spaeth</th>\n",
       "      <td>16</td>\n",
       "    </tr>\n",
       "    <tr>\n",
       "      <th>S Chatterjee</th>\n",
       "      <td>3</td>\n",
       "    </tr>\n",
       "    <tr>\n",
       "      <th>R J Freund and P D Minton</th>\n",
       "      <td>2</td>\n",
       "    </tr>\n",
       "    <tr>\n",
       "      <th>D G Kleinbaum and L L Kupper</th>\n",
       "      <td>2</td>\n",
       "    </tr>\n",
       "    <tr>\n",
       "      <th>S C Narula</th>\n",
       "      <td>2</td>\n",
       "    </tr>\n",
       "    <tr>\n",
       "      <th>K A Brownlee</th>\n",
       "      <td>1</td>\n",
       "    </tr>\n",
       "    <tr>\n",
       "      <th>S Chatterjee and B Price</th>\n",
       "      <td>1</td>\n",
       "    </tr>\n",
       "  </tbody>\n",
       "</table>\n",
       "</div>"
      ],
      "text/plain": [
       "                                  Counts\n",
       "Authors                                 \n",
       "    Helmut Spaeth                     16\n",
       "    S Chatterjee                       3\n",
       "    R J Freund and P D Minton          2\n",
       "    D G Kleinbaum and L L Kupper       2\n",
       "    S C Narula                         2\n",
       "    K A Brownlee                       1\n",
       "    S Chatterjee and B Price           1"
      ]
     },
     "execution_count": 750,
     "metadata": {},
     "output_type": "execute_result"
    }
   ],
   "source": [
    "df2"
   ]
  },
  {
   "cell_type": "code",
   "execution_count": null,
   "metadata": {
    "collapsed": true
   },
   "outputs": [],
   "source": []
  }
 ],
 "metadata": {
  "kernel_info": {
   "name": "data-x"
  },
  "kernelspec": {
   "display_name": "Python 3",
   "language": "python",
   "name": "python3"
  },
  "language_info": {
   "codemirror_mode": {
    "name": "ipython",
    "version": 3
   },
   "file_extension": ".py",
   "mimetype": "text/x-python",
   "name": "python",
   "nbconvert_exporter": "python",
   "pygments_lexer": "ipython3",
   "version": "3.6.8"
  },
  "nteract": {
   "version": "0.7.1"
  }
 },
 "nbformat": 4,
 "nbformat_minor": 2
}
