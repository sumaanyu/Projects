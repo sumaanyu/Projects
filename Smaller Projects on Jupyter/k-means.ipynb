{
 "cells": [
  {
   "cell_type": "markdown",
   "metadata": {},
   "source": [
    "## Note: This notebook will use more than 2G of memory, you might want to use your own laptop"
   ]
  },
  {
   "cell_type": "code",
   "execution_count": 1,
   "metadata": {},
   "outputs": [
    {
     "name": "stderr",
     "output_type": "stream",
     "text": [
      "2019-04-25 18:09:32,303\tINFO node.py:423 -- Process STDOUT and STDERR is being redirected to /tmp/ray/session_2019-04-25_18-09-32_643/logs.\n",
      "2019-04-25 18:09:32,414\tINFO services.py:363 -- Waiting for redis server at 127.0.0.1:37762 to respond...\n",
      "2019-04-25 18:09:32,545\tINFO services.py:363 -- Waiting for redis server at 127.0.0.1:58264 to respond...\n",
      "2019-04-25 18:09:32,550\tINFO services.py:760 -- Starting Redis shard with 0.43 GB max memory.\n",
      "2019-04-25 18:09:32,590\tWARNING services.py:1272 -- WARNING: object_store_memory is not verified when plasma_directory is set.\n",
      "2019-04-25 18:09:32,593\tINFO services.py:1384 -- Starting the Plasma object store with 2.0 GB memory using /tmp.\n"
     ]
    },
    {
     "data": {
      "text/plain": [
       "{'node_ip_address': None,\n",
       " 'redis_address': '10.244.5.91:37762',\n",
       " 'object_store_address': '/tmp/ray/session_2019-04-25_18-09-32_643/sockets/plasma_store',\n",
       " 'webui_url': None,\n",
       " 'raylet_socket_name': '/tmp/ray/session_2019-04-25_18-09-32_643/sockets/raylet'}"
      ]
     },
     "execution_count": 1,
     "metadata": {},
     "output_type": "execute_result"
    }
   ],
   "source": [
    "import numpy as np\n",
    "import pandas as pd\n",
    "import seaborn as sns\n",
    "import matplotlib.pyplot as plt\n",
    "\n",
    "import scipy.spatial\n",
    "from sklearn.cluster import KMeans\n",
    "import ray\n",
    "from utils import timeit\n",
    "import time\n",
    "\n",
    "\n",
    "ray.init(\n",
    "    num_cpus=8, # We will be using 8 workers\n",
    "    include_webui=False,  \n",
    "    plasma_directory='/tmp', # The object store is mounted to local file system\n",
    "    ignore_reinit_error=True,\n",
    "    object_store_memory=int(2*1e9), \n",
    ")\n",
    "\n"
   ]
  },
  {
   "cell_type": "markdown",
   "metadata": {
    "nbgrader": {
     "grade": false,
     "grade_id": "cell-25b37b1800e6de61",
     "locked": true,
     "schema_version": 2,
     "solution": false
    }
   },
   "source": [
    "## 8: Distributed K-means Clustering"
   ]
  },
  {
   "cell_type": "markdown",
   "metadata": {
    "nbgrader": {
     "grade": false,
     "grade_id": "cell-5d5448c930e109b3",
     "locked": true,
     "schema_version": 2,
     "solution": false
    }
   },
   "source": [
    "Let's parallelize an algorithm designed to find clusters of data.\n",
    "\n",
    "[*K-means*](https://en.wikipedia.org/wiki/K-means_clustering) is an unsupervised algorithm that partitions $n$ data points into $k$ clusters where each data point belongs to the cluster with the nearest mean data point or *centroid*.\n",
    "\n",
    "The algorithm works as follows:\n",
    "1. Initialize the centroids $c_1, \\dots, c_k$ randomly.\n",
    "2. Assign each data point $d_j$ to the cluster belonging to the closest centroid. In mathematical terms, generate sets $S_1, \\dots S_k$ s.t.\n",
    "$S_i = \\{d_j : || d_j - c_i || < || d_j - c_l || \\quad \\forall j, k \\quad 1 \\leq j \\leq n \\quad 1 \\leq l \\leq k \\}$\n",
    "3. Calculate $c_1', \\dots, c_k'$ s.t. $c_i' \\leftarrow \\text{mean}(S_i)$.\n",
    "4. If none of the centroids change, finish! In other words, $c_1 = c_1' \\cap \\dots \\cap c_k = c_k'$. \n",
    "Then, $c_1', \\dots, c_k'$ are the centroids of the clusters defined by $S_1, \\dots S_k$.\n",
    "5. Otherwise, assign $c_1 \\leftarrow c_1', \\dots, c_k \\leftarrow c_k'$.\n",
    "6. Return to step 2.\n",
    "\n",
    "For our purposes, we'll make a small modification to the algorithm. Instead of assigning each data point to a set \n",
    "$S_i$ and then computing $c_i' \\leftarrow \\text{mean}(S_i)$, we'll only store the number of data points and the sum of the data points in each cluster.\n",
    "This allows us to compute the mean centroid because:\n",
    "\n",
    "$$\\text{mean}(S_i) = \\frac{\\text{sum}(S_i)}{|S_i|}$$\n",
    "\n",
    "$|S_i|$ corresponds to the number of data points in cluster $i$. $\\text{sum}(S_i) = \\sum_{d \\in S_i} d$ corresponds to the sum of the data points in cluster $i$.\n",
    "\n",
    "\n",
    "Here's some additional explanations that you might find useful:\n",
    "- [K-means on Wikipedia](https://en.wikipedia.org/wiki/K-means_clustering)\n",
    "- [Stanford CS221 on K-means](http://stanford.edu/~cpiech/cs221/handouts/kmeans.html)\n",
    "- [Visualing K-means](http://tech.nitoyon.com/en/blog/2013/11/07/k-means/)\n",
    "\n",
    "\n",
    "Familliarize yourself with the non-parallel k-means implementation below."
   ]
  },
  {
   "cell_type": "code",
   "execution_count": 2,
   "metadata": {
    "nbgrader": {
     "grade": false,
     "grade_id": "cell-e00b46d5057a7cbf",
     "locked": true,
     "schema_version": 2,
     "solution": false
    }
   },
   "outputs": [],
   "source": [
    "def generate_centroid():\n",
    "    \"\"\"Generates a random centroid\"\"\"\n",
    "    return np.random.random(size=2)\n",
    "\n",
    "\n",
    "def generate_samples(num_samples, num_clusters, std=0.1):\n",
    "    \"\"\"Generates samples for some number of cluster according to a normal distribution\"\"\"\n",
    "    centroids = [generate_centroid() for _ in range(num_clusters)]\n",
    "    \n",
    "    samples = []\n",
    "    for i, centroid in enumerate(centroids):\n",
    "        current_num_samples = num_samples // num_clusters\n",
    "        if i == 0:\n",
    "            current_num_samples += num_samples % num_clusters\n",
    "        \n",
    "        generated_samples = np.random.normal(centroid, std, (current_num_samples, 2))\n",
    "        samples.append(generated_samples)\n",
    "        \n",
    "    samples = np.concatenate(samples)\n",
    "    np.random.shuffle(samples)  # Occurs in-place\n",
    "    return samples\n",
    "\n",
    "NUM_CLUSTERS = 4\n",
    "NUM_SAMPLES = 1000\n",
    "samples = generate_samples(NUM_SAMPLES, NUM_CLUSTERS, 0.05)"
   ]
  },
  {
   "cell_type": "code",
   "execution_count": 3,
   "metadata": {
    "nbgrader": {
     "grade": false,
     "grade_id": "cell-5d3fd61fbde92840",
     "locked": true,
     "schema_version": 2,
     "solution": false
    }
   },
   "outputs": [],
   "source": [
    "def k_means_serial(samples, num_clusters):\n",
    "    \"\"\"Finds num_clusters centroids for the samples using k-means\"\"\"\n",
    "    np.random.seed(0)  # Generate centroids in a predictable way so k-means runs deterministically\n",
    "    centroids = [generate_centroid() for _ in range(num_clusters)]\n",
    "    \n",
    "    old_centroids = []\n",
    "    while not np.array_equal(centroids, old_centroids):\n",
    "        sums = [0 for _ in range(num_clusters)]\n",
    "        counts = [0 for _ in range(num_clusters)]\n",
    "        # Classify the samples\n",
    "        for sample in samples:\n",
    "            cluster = 0\n",
    "            min_dist = np.linalg.norm(sample - centroids[0])\n",
    "            \n",
    "            for i, centroid in zip(range(1, num_clusters), centroids[1:]):\n",
    "                dist = np.linalg.norm(sample - centroid)\n",
    "                if dist < min_dist:\n",
    "                    cluster = i\n",
    "                    min_dist = dist\n",
    "            # Record the sums and counts to later compute the new centroids\n",
    "            sums[cluster] += sample\n",
    "            counts[cluster] += 1\n",
    "        \n",
    "        old_centroids = centroids\n",
    "        centroids = [s / count if count > 0 else generate_centroid() for s, count in zip(sums, counts)]\n",
    "                        \n",
    "    np.random.seed(None)  # Reset random seed\n",
    "        \n",
    "    return centroids"
   ]
  },
  {
   "cell_type": "code",
   "execution_count": 4,
   "metadata": {
    "nbgrader": {
     "grade": false,
     "grade_id": "cell-48c99b2547132f17",
     "locked": true,
     "schema_version": 2,
     "solution": false
    }
   },
   "outputs": [
    {
     "name": "stdout",
     "output_type": "stream",
     "text": [
      "k_means_serial took 1.0097746849060059 seconds.\n"
     ]
    }
   ],
   "source": [
    "start = time.time()\n",
    "serial_centroids = k_means_serial(samples, NUM_CLUSTERS)\n",
    "k_means_serial_time = time.time() - start\n",
    "print(\"k_means_serial took {} seconds.\".format(k_means_serial_time))"
   ]
  },
  {
   "cell_type": "markdown",
   "metadata": {
    "nbgrader": {
     "grade": false,
     "grade_id": "cell-f2a57b8e4ec44656",
     "locked": true,
     "schema_version": 2,
     "solution": false
    }
   },
   "source": [
    "### Question 8\n",
    "\n",
    "Now, let's parallelize the k-means algorithm above. Once again, we'll parallelize the `for` loop in `k_means_serial` and parallelize the classification of data points. Classifying a single data point is very fast -- faster than the overhead needed to start a remote function. In this case, parallelizing across individual data points doesn't make sense. Instead, we'll parallelize across *batches* of data points -- larger sets of data points that are still smaller than the overall dataset.\n",
    "\n",
    "**HINT:** use the MapReduce API."
   ]
  },
  {
   "cell_type": "code",
   "execution_count": 5,
   "metadata": {},
   "outputs": [],
   "source": [
    "def map_parallel(function, arglist):\n",
    "    \"\"\"Apply a function to each element of a list in parallel.\n",
    "    Args:\n",
    "        function: a remote function that takes in one argument as input and outputs an ObjectID\n",
    "        arglist: a list of arguments that the function will be applied to\n",
    "    Returns:\n",
    "        A list of ObjectIDs\n",
    "    \"\"\"\n",
    "    if not isinstance(arglist, list):\n",
    "        raise ValueError(\"The arglist argument must be a list.\")\n",
    "    \n",
    "    if not hasattr(function, \"remote\"):\n",
    "        raise ValueError(\"The function argument must be a remote function.\")\n",
    "            \n",
    "    # BEGIN SOLUTION\n",
    "    return [function.remote(arg) for arg in arglist]\n",
    "    # END SOLUTION\n",
    "\n",
    "def reduce_parallel(function, items):\n",
    "    \"\"\"Apply a function repeatedly to pairs of items until only 1 remains.\n",
    "    \n",
    "    Args:\n",
    "        function: remote function that takes 2 items as input and returns 1 new item.\n",
    "        items: a list of items which are reduced to 1 output by repeatedly calling function.\n",
    "    \n",
    "    Returns an ObjectID.\n",
    "    \n",
    "    Hint:\n",
    "        1. Divide the list of items into pairs.\n",
    "        2. Reduce each pair to generate a new list of items.\n",
    "        3. If there was an unpaired item in (1), add it to the new list.\n",
    "        The new list should be about 1/2 the size of the old list.\n",
    "        4. If there is only 1 item in the new list, return that item. Otherwise, repeat steps 1-3.\n",
    "        \n",
    "        This algorithm is called a \"tree-reduce\", where the original items are the leaves\n",
    "        and the final result is the root. The tree is balanced. Each non-leaf node has 2 child nodes.\n",
    "        Each non-root node has 1 parent node.\n",
    "    \"\"\"\n",
    "    if not isinstance(items, list):\n",
    "        raise ValueError(\"The items argument must be a list.\")\n",
    "\n",
    "    if not hasattr(function, \"remote\"):\n",
    "        raise ValueError(\"The function argument must be a remote function.\")\n",
    "       \n",
    "    items = items.copy()   # Avoids mutating the items argument\n",
    "        \n",
    "    # BEGIN SOLUTION\n",
    "    if len(items) == 1:\n",
    "        return ray.put(items[0])\n",
    "    \n",
    "    while len(items) > 1:\n",
    "        a = items.pop(0)\n",
    "        b = items.pop(0)\n",
    "        \n",
    "        oid = function.remote(a, b)\n",
    "        items.append(oid)\n",
    "        \n",
    "    return items[0]\n",
    "    # END SOLUTION"
   ]
  },
  {
   "cell_type": "code",
   "execution_count": 6,
   "metadata": {},
   "outputs": [],
   "source": [
    "def merge_dicts(a, b):\n",
    "    \"\"\"Merges 2 dictionaries such that the result contains keys of both a and b.\n",
    "    \n",
    "    If a key k is in a and in b, result[k] = a[k] + b[k].\n",
    "    \"\"\"\n",
    "    result = a.copy()  # Don't mutate the input dictionaries\n",
    "    for key, value in b.items():\n",
    "        result[key] = result.get(key, 0) + value\n",
    "        \n",
    "    return result\n",
    "\n",
    "\n",
    "@ray.remote\n",
    "def merge_dicts_remote(a, b):\n",
    "    return merge_dicts(a, b)"
   ]
  },
  {
   "cell_type": "code",
   "execution_count": 7,
   "metadata": {
    "nbgrader": {
     "grade": false,
     "grade_id": "extra-credit-answer",
     "locked": false,
     "schema_version": 2,
     "solution": true
    }
   },
   "outputs": [],
   "source": [
    "def make_remote_batch_classifier(centroids):\n",
    "    \"\"\"Returns a remote function that classifies each data point in a batch\"\"\"\n",
    "    @ray.remote\n",
    "    def classify_remote(samples):\n",
    "        \"\"\"Classifies each data point in the batch.\n",
    "        \n",
    "        Returns a dictionary containing the sum and number of data points in the batch for each cluster.\n",
    "        \"\"\"\n",
    "        data = {}\n",
    "        \n",
    "        for sample in samples:\n",
    "            cluster = 0            \n",
    "            # YOUR CODE HERE: classify the data point by assigning `cluster` to the cluster number\n",
    "            # that the data point belongs to.\n",
    "            ### BEGIN SOLUTION\n",
    "            min_dist = np.linalg.norm(sample - centroids[0])\n",
    "            for i, centroid in zip(range(1, len(centroids)), centroids[1:]):\n",
    "                dist = np.linalg.norm(sample - centroid)\n",
    "                if dist < min_dist:\n",
    "                    cluster = i\n",
    "                    min_dist = dist\n",
    "            ### END SOLUTION\n",
    "            \n",
    "            sum_key = \"{}_sum\".format(cluster)\n",
    "            count_key = \"{}_count\".format(cluster)\n",
    "            data[sum_key] = data.get(sum_key, 0) + sample\n",
    "            data[count_key] = data.get(count_key, 0) + 1\n",
    "            \n",
    "        return data\n",
    "    \n",
    "    return classify_remote\n",
    "\n",
    "\n",
    "def k_means_parallel(samples, num_clusters):\n",
    "    \"\"\"Finds num_clusters centroids for the samples using parallelize k-means\"\"\"\n",
    "    np.random.seed(0)  # Generate centroids in a predictable way so k-means runs deterministically\n",
    "    centroids = [generate_centroid() for _ in range(num_clusters)]\n",
    "    \n",
    "    num_batches = int(ray.global_state.cluster_resources()[\"CPU\"])\n",
    "    \n",
    "    # YOUR CODE HERE: Divide samples into `num_batches` batches.\n",
    "    # Make sure batch sizes are roughly similar\n",
    "    batches = ...\n",
    "    ### BEGIN SOLUTION\n",
    "    batches = np.array_split(samples, num_batches)\n",
    "    ### END SOLUTION\n",
    "    \n",
    "    # YOUR CODE HERE: `ray.put` each batch. This eliminates overhead of repeatedly copying\n",
    "    # batches to Ray's object store when calling remote functions on a batch\n",
    "    batch_ids = ...\n",
    "    ### BEGIN SOLUTION\n",
    "    batch_ids = [ray.put(batch) for batch in batches]\n",
    "    ### END SOLUTION\n",
    "    \n",
    "    old_centroids = []\n",
    "    while not np.array_equal(centroids, old_centroids):\n",
    "        remote_classifier = make_remote_batch_classifier(centroids)\n",
    "        \n",
    "        # YOUR CODE HERE: Classify each batch in parallel using `remote_classifier`\n",
    "        batch_info_dicts_ids = ...\n",
    "        ### BEGIN SOLUTION\n",
    "        batch_info_dict_ids = map_parallel(remote_classifier, batch_ids)\n",
    "        ### END SOLUTION\n",
    "        \n",
    "        # YOUR CODE HERE: use `merge_dicts_remote` to merge all batch_dict_ids into 1 dictionary \n",
    "        centroid_info = ...\n",
    "        ### BEGIN SOLUTION\n",
    "        centroid_info = ray.get(reduce_parallel(merge_dicts_remote, batch_info_dict_ids))\n",
    "        ### END SOLUTION\n",
    "        \n",
    "        old_centroids = centroids\n",
    "        centroids = []\n",
    "        for i in range(num_clusters):\n",
    "            sum_key = \"{}_sum\".format(i)\n",
    "            count_key = \"{}_count\".format(i)\n",
    "            cluster_sum = centroid_info.get(sum_key, 0)\n",
    "            cluster_count = centroid_info.get(count_key, 0)\n",
    "            if cluster_count == 0:\n",
    "                new_centroid = generate_centroid()\n",
    "            else:\n",
    "                # YOUR CODE HERE: compute the new centroid\n",
    "                new_centroid = ...\n",
    "                ### BEGIN SOLUTION\n",
    "                new_centroid = cluster_sum / cluster_count\n",
    "                ### END SOLUTION\n",
    "            \n",
    "            centroids.append(new_centroid)\n",
    "            \n",
    "    np.random.seed(None)  # Reset the random seed\n",
    "            \n",
    "    return centroids"
   ]
  },
  {
   "cell_type": "code",
   "execution_count": 8,
   "metadata": {
    "nbgrader": {
     "grade": true,
     "grade_id": "extra-credit-test",
     "locked": true,
     "points": 1,
     "schema_version": 2,
     "solution": false
    },
    "scrolled": true
   },
   "outputs": [
    {
     "name": "stdout",
     "output_type": "stream",
     "text": [
      "k_means_parallel took 0.6654129028320312 seconds.\n"
     ]
    }
   ],
   "source": [
    "start = time.time()\n",
    "centroids = k_means_parallel(samples, NUM_CLUSTERS)\n",
    "k_means_parallel_time = time.time() - start\n",
    "print(\"k_means_parallel took {} seconds.\".format(k_means_parallel_time))\n",
    "# assert np.allclose(serial_centroids, centroids)  # np.allclose avoids floating point issues"
   ]
  },
  {
   "cell_type": "markdown",
   "metadata": {
    "nbgrader": {
     "grade": false,
     "grade_id": "cell-986a8c81c0160d40",
     "locked": true,
     "schema_version": 2,
     "solution": false
    }
   },
   "source": [
    "You may observe that the serial code runs faster than the parallel code. In this case, the slowdown for the parallel code is likely due to overhead in running remote functions and serializing data.\n",
    "\n",
    "Because k-means initializes centroids randomly, the number of loop iterations to converge on the final set of centroids may vary. This means that running k-means multiple times on the same dataset could take different amounts of time. This should not cause any issues on this homework because we set the random seed to deterministically initialize centroids.\n",
    "\n",
    "Let's try k-means on a 5x larger dataset -- 5000 data points instead of 1000. The performance gain from parallelizing k-means should outweigh the overhead and parallel k-means should run faster."
   ]
  },
  {
   "cell_type": "code",
   "execution_count": 9,
   "metadata": {
    "nbgrader": {
     "grade": false,
     "grade_id": "cell-c5a943cf6d490a08",
     "locked": true,
     "schema_version": 2,
     "solution": false
    },
    "scrolled": true
   },
   "outputs": [
    {
     "name": "stdout",
     "output_type": "stream",
     "text": [
      "k_means_serial took 0.7014753818511963 seconds.\n",
      "k_means_parallel took 0.6380980014801025 seconds.\n"
     ]
    }
   ],
   "source": [
    "# Run on a large dataset. This might take up to a minute.\n",
    "NUM_SAMPLES = 5000\n",
    "samples = generate_samples(NUM_SAMPLES, NUM_CLUSTERS, 0.05)\n",
    "\n",
    "start = time.time()\n",
    "serial_centroids = k_means_serial(samples, NUM_CLUSTERS)\n",
    "k_means_serial_time = time.time() - start\n",
    "\n",
    "start = time.time()\n",
    "centroids = k_means_parallel(samples, NUM_CLUSTERS)\n",
    "k_means_parallel_time = time.time() - start\n",
    "\n",
    "print(\"k_means_serial took {} seconds.\".format(k_means_serial_time))\n",
    "print(\"k_means_parallel took {} seconds.\".format(k_means_parallel_time))"
   ]
  },
  {
   "cell_type": "markdown",
   "metadata": {
    "nbgrader": {
     "grade": false,
     "grade_id": "cell-ce985d281c0d1874",
     "locked": true,
     "schema_version": 2,
     "solution": false
    }
   },
   "source": [
    "The parallel version of K-means should run much faster.\n",
    "\n",
    "Now, let's visualize the cluster centers you found!"
   ]
  },
  {
   "cell_type": "code",
   "execution_count": 10,
   "metadata": {},
   "outputs": [
    {
     "data": {
      "text/plain": [
       "<matplotlib.collections.PathCollection at 0x7fafe841ca20>"
      ]
     },
     "execution_count": 10,
     "metadata": {},
     "output_type": "execute_result"
    },
    {
     "data": {
      "image/png": "[encoded data removed]",
      "text/plain": [
       "<Figure size 432x288 with 1 Axes>"
      ]
     },
     "metadata": {},
     "output_type": "display_data"
    }
   ],
   "source": [
    "centroids_array = np.array(centroids)\n",
    "\n",
    "# Label each sample based on which centroid is closest\n",
    "labels = [np.argmin(np.linalg.norm(sample - centroids_array, axis=1)) for sample in samples]\n",
    "\n",
    "# Plot results\n",
    "plt.scatter(samples[:, 0], samples[:, 1], c=labels)\n",
    "plt.scatter(centroids_array[:, 0], centroids_array[:, 1], c=range(len(centroids)),\n",
    "            marker=\"*\", s=300, edgecolor=\"cyan\")"
   ]
  },
  {
   "cell_type": "markdown",
   "metadata": {},
   "source": [
    "## 9: Distributed Hyperparameter Tuning\n",
    "\n",
    "### Why Tune Hyperparameters?\n",
    "\n",
    "Earlier in the class, you learned how to fit a function to data using techniques such as least squares. Before fitting the function to data, you'll often have to make choices about the type and configuration of the function you'd like to fit. **Hyperparameter tuning** is the problem of making good choices about the type and configuration of functions that we'll try to fit to the data. For example, consider the plot below.\n",
    "\n",
    "By inspecting the plot, we can conclude that a cubic function will likely fit the data well. The type of function (polynomial) and the degree of the polynomial (3) are our chosen hyperparamters. While data visualization often helps choose good hyperparameters, it might not always be possible, or you might want to use an algorithm to automatically tune hyperparamters."
   ]
  },
  {
   "cell_type": "markdown",
   "metadata": {},
   "source": [
    "### Grid Search: A Basic Hyperparameter Tuning Algorithm\n",
    "\n",
    "Grid Search is one way to find good hyperparameters. The algorithm iterates over a set of hyperparameters, and tries out each possible hyperparameter. By evaluating each hyperparameter choice, we can choose which hyperparameter works best.\n",
    "\n",
    "First, we generate the data and split the data into a training and test set. Because functions might overfit to the training set, we'll use the test set for evaluation"
   ]
  },
  {
   "cell_type": "code",
   "execution_count": 11,
   "metadata": {},
   "outputs": [],
   "source": [
    "# The \"true\" function that generates the data\n",
    "f = lambda x: (x - 3) * (x - 1) * (x + 2)\n",
    "\n",
    "# Generate data set\n",
    "x = np.arange(-5, 5, .1)\n",
    "y = f(x) + 10 * np.random.randn(*x.shape)\n",
    "\n",
    "# Split data into training and test sets\n",
    "idxs = np.random.choice(len(y), len(y), replace=False)\n",
    "cutoff = (len(y) * 7) // 10\n",
    "train_x, train_y = x[idxs[:cutoff]], y[idxs[:cutoff]]\n",
    "test_x, test_y = x[idxs[cutoff:]], y[idxs[cutoff:]]"
   ]
  },
  {
   "cell_type": "code",
   "execution_count": 12,
   "metadata": {},
   "outputs": [
    {
     "data": {
      "text/plain": [
       "<matplotlib.collections.PathCollection at 0x7fafe83a4a20>"
      ]
     },
     "execution_count": 12,
     "metadata": {},
     "output_type": "execute_result"
    },
    {
     "data": {
      "image/png": "[encoded data removed]",
      "text/plain": [
       "<Figure size 432x288 with 1 Axes>"
      ]
     },
     "metadata": {},
     "output_type": "display_data"
    }
   ],
   "source": [
    "plt.scatter(x, y)"
   ]
  },
  {
   "cell_type": "markdown",
   "metadata": {},
   "source": [
    "Next, we define the function `fit` which fits a polynomial of a certain degree to the data."
   ]
  },
  {
   "cell_type": "code",
   "execution_count": 13,
   "metadata": {},
   "outputs": [],
   "source": [
    "def fit(x, y, degree):\n",
    "    \"\"\"Fits a polynomial to the data\"\"\"\n",
    "    z = np.polyfit(x, y, degree)\n",
    "    return np.poly1d(z)"
   ]
  },
  {
   "cell_type": "markdown",
   "metadata": {},
   "source": [
    "### Question 9a\n",
    "\n",
    "Fit polynomials of degree 0 to 9 to the training data and store these functions in a list."
   ]
  },
  {
   "cell_type": "code",
   "execution_count": 14,
   "metadata": {},
   "outputs": [],
   "source": [
    "# YOUR CORE HERE:\n",
    "functions = [...]\n",
    "\n",
    "### BEGIN SOLUTION ###\n",
    "functions = [fit(train_x, train_y, degree) for degree in range(10)]\n",
    "### END SOLUTION ###"
   ]
  },
  {
   "cell_type": "code",
   "execution_count": 15,
   "metadata": {},
   "outputs": [],
   "source": [
    "assert len(functions) == 10\n",
    "for i, g in enumerate(functions):\n",
    "    assert len(g.coefficients) == i + 1"
   ]
  },
  {
   "cell_type": "code",
   "execution_count": 16,
   "metadata": {},
   "outputs": [
    {
     "data": {
      "image/png": "[encoded data removed]",
      "text/plain": [
       "<Figure size 432x288 with 1 Axes>"
      ]
     },
     "metadata": {},
     "output_type": "display_data"
    }
   ],
   "source": [
    "# Plot the learned functions against the data\n",
    "plt.scatter(x, y)\n",
    "\n",
    "plt.title(\"Learned functions against data\")\n",
    "plt.xlabel(\"x\")\n",
    "plt.ylabel(\"f(x)\")\n",
    "\n",
    "### YOUR CODE HERE: Plot the learned functions against x\n",
    "\n",
    "### BEGIN SOLUTION ###\n",
    "for g in functions:\n",
    "    plt.plot(x, g(x))\n",
    "### END SOLUTION ###"
   ]
  },
  {
   "cell_type": "markdown",
   "metadata": {},
   "source": [
    "### Question 9b\n",
    "\n",
    "We need some kind of metric to evaluate the functions. Let's use the concept of error: we define error as the distance between the output of your learned function and the true value.\n",
    "\n",
    "Mathematically, let's define the error as:\n",
    "$$\\epsilon = \\sum_{i=i}^n | y_i - g(x_i) | $$\n",
    "where $g$ one of your learned functions.\n",
    "\n",
    "The **training error** is the error on the data used to learn the functions.\n",
    "\n",
    "The **test error** is the error on the data not used to learn the functions.\n",
    "\n",
    "Find the training error and the test error for each of your learned functions."
   ]
  },
  {
   "cell_type": "code",
   "execution_count": 17,
   "metadata": {},
   "outputs": [],
   "source": [
    "training_errors = []\n",
    "test_errors = []\n",
    "\n",
    "# YOUR CODE HERE: find the training error and test error for each learned function\n",
    "# and add them to lists.\n",
    "\n",
    "### BEGIN SOLUTION ###\n",
    "for g in functions:\n",
    "    training_error = sum(abs(train_y - g(train_x)))\n",
    "    training_errors.append(training_error)\n",
    "    \n",
    "    test_error = sum(abs(test_y - g(test_x)))\n",
    "    test_errors.append(test_error)\n",
    "### END SOLUTION ###"
   ]
  },
  {
   "cell_type": "code",
   "execution_count": 18,
   "metadata": {},
   "outputs": [],
   "source": [
    "assert len(training_errors) == 10\n",
    "assert len(test_errors) == 10"
   ]
  },
  {
   "cell_type": "code",
   "execution_count": 19,
   "metadata": {},
   "outputs": [
    {
     "data": {
      "image/png": "[encoded data removed]",
      "text/plain": [
       "<Figure size 432x288 with 1 Axes>"
      ]
     },
     "metadata": {},
     "output_type": "display_data"
    },
    {
     "data": {
      "image/png": "[encoded data removed]",
      "text/plain": [
       "<Figure size 432x288 with 1 Axes>"
      ]
     },
     "metadata": {},
     "output_type": "display_data"
    }
   ],
   "source": [
    "plt.plot(range(len(training_errors)), training_errors, label=\"training errors\")\n",
    "plt.plot(range(len(test_errors)), test_errors, label=\"test errors\")\n",
    "plt.legend()\n",
    "plt.xlabel(\"Polynomial degree\")\n",
    "plt.ylabel(\"Error\")\n",
    "plt.xticks(range(0, 10))\n",
    "plt.title(\"Training and Test Errors of Learned Functions\")\n",
    "\n",
    "plt.show()\n",
    "\n",
    "plt.plot(range(3, len(training_errors)), training_errors[3:], label=\"training errors\")\n",
    "plt.plot(range(3, len(test_errors)), test_errors[3:], label=\"test errors\")\n",
    "\n",
    "plt.legend()\n",
    "plt.xlabel(\"Polynomial degree\")\n",
    "plt.ylabel(\"Error\")\n",
    "plt.title(\"Training and Test Errors of Learned Functions (Zoomed in)\")\n",
    "\n",
    "plt.show()"
   ]
  },
  {
   "cell_type": "markdown",
   "metadata": {},
   "source": [
    "### Question 9c\n",
    "\n",
    "What's the degree of the best function? Use the graph above to justify. Does this match the degree of the original function `f`? Why or why not?"
   ]
  },
  {
   "cell_type": "markdown",
   "metadata": {},
   "source": [
    "YOUR ANSWER HERE"
   ]
  },
  {
   "cell_type": "markdown",
   "metadata": {},
   "source": [
    "### Distributed Hyperparameter Tuning\n",
    "\n",
    "Fitting polynomials to this small amount of training data is pretty fast. Let's try something more complicated, like finding cluster centers using k-means.\n",
    "\n",
    "K-means is an unsupervised machine learning framework. The algorithm takes the number of clusters (this is a hyperparameter) and a set of points and outputs possible cluster centers.\n",
    "\n",
    "First, let's generate a large data set."
   ]
  },
  {
   "cell_type": "code",
   "execution_count": 20,
   "metadata": {
    "scrolled": false
   },
   "outputs": [
    {
     "data": {
      "text/plain": [
       "<matplotlib.collections.PathCollection at 0x7fafe82eecc0>"
      ]
     },
     "execution_count": 20,
     "metadata": {},
     "output_type": "execute_result"
    },
    {
     "data": {
      "image/png": "[encoded data removed]",
      "text/plain": [
       "<Figure size 432x288 with 1 Axes>"
      ]
     },
     "metadata": {},
     "output_type": "display_data"
    }
   ],
   "source": [
    "from sklearn.datasets.samples_generator import make_blobs\n",
    "\n",
    "# Generate data set\n",
    "points, labels = make_blobs(n_samples=10**6, centers=7,\n",
    "                       cluster_std=0.60, random_state=0)\n",
    "\n",
    "# Split into training and test sets\n",
    "training_set = points[:len(points) * 7 // 10]\n",
    "test_set = points[len(points) * 7 // 10:]\n",
    "\n",
    "# Plot a few of the points...plotting all is slow.\n",
    "plt.xlabel(\"x\")\n",
    "plt.ylabel(\"y\")\n",
    "plt.title(\"Generated clusters\")\n",
    "plt.scatter(points[:10000, 0], points[:10000, 1], s=50, c=labels[:10000])"
   ]
  },
  {
   "cell_type": "markdown",
   "metadata": {},
   "source": [
    "### Question 9d\n",
    "\n",
    "Use the function `k_means_serial` below to do a grid search across the number of clusters, from 1 to 10. This will take a few minutes to run.\n",
    "\n",
    "**Remember to use the `training_set` to train your models!**"
   ]
  },
  {
   "cell_type": "code",
   "execution_count": 21,
   "metadata": {},
   "outputs": [],
   "source": [
    "def k_means_serial(num_clusters, data):\n",
    "    k_means = KMeans(n_clusters=num_clusters)\n",
    "    k_means.fit(data)\n",
    "    return k_means"
   ]
  },
  {
   "cell_type": "code",
   "execution_count": 22,
   "metadata": {},
   "outputs": [
    {
     "name": "stdout",
     "output_type": "stream",
     "text": [
      "Serial k-means hyperparameter search took 87.15 seconds\n"
     ]
    }
   ],
   "source": [
    "start = time.time()\n",
    "# YOUR CODE HERE: implement a grid search across the number of clusters from 1 to 10.\n",
    "k_means_serial_models = [...]\n",
    "\n",
    "### BEGIN SOLUTION ###\n",
    "k_means_serial_models = [k_means_serial(num_clusters, training_set) for num_clusters in range(1, 11)]\n",
    "### END SOLUTION ###\n",
    "\n",
    "serial_hp_search_time = time.time() - start\n",
    "print(\"Serial k-means hyperparameter search took {:.2f} seconds\".format(serial_hp_search_time))"
   ]
  },
  {
   "cell_type": "code",
   "execution_count": 23,
   "metadata": {},
   "outputs": [],
   "source": [
    "assert len(k_means_serial_models) == 10\n",
    "assert serial_hp_search_time > 1, \"Something might have gone wrong...this should take longer\""
   ]
  },
  {
   "cell_type": "markdown",
   "metadata": {},
   "source": [
    "### Question 9e\n",
    "\n",
    "Now let's speed up the hyperparameter search using Ray. Turn the `k_means_parallel` function into a remote task, and use it to run multiple k-means hyperparameter configurations in parallel."
   ]
  },
  {
   "cell_type": "code",
   "execution_count": 24,
   "metadata": {},
   "outputs": [],
   "source": [
    "# YOUR CODE HERE: convert k_means_parallel into a remote task\n",
    "\n",
    "def k_means_parallel(num_clusters, data):\n",
    "    k_means = KMeans(n_clusters=num_clusters)\n",
    "    k_means.fit(data)\n",
    "    return k_means\n",
    "\n",
    "### BEGIN SOLUTION ###\n",
    "@ray.remote\n",
    "def k_means_parallel(num_clusters, data):\n",
    "    k_means = KMeans(n_clusters=num_clusters)\n",
    "    k_means.fit(data)\n",
    "    return k_means\n",
    "### END SOLUTION ###"
   ]
  },
  {
   "cell_type": "code",
   "execution_count": null,
   "metadata": {},
   "outputs": [],
   "source": [
    "start = time.time()\n",
    "# YOUR CODE HERE: implement a parallel grid search across the number of clusters from 1 to 10\n",
    "k_means_parallel_models = ...\n",
    "\n",
    "### BEGIN SOLUTION ###\n",
    "# Serializing training_set once might offer a speedup. This is a best practice; not necessary in student solution.\n",
    "training_set_id = ray.put(training_set)\n",
    "k_means_parallel_models = ray.get(\n",
    "    [k_means_parallel.remote(num_clusters, training_set_id) for num_clusters in range(1, 11)])\n",
    "### END SOLUTION ###\n",
    "\n",
    "parallel_hp_search_time = time.time() - start\n",
    "print(\"Parallel k-means hyperparameter search took {:.2f} seconds\".format(parallel_hp_search_time))"
   ]
  },
  {
   "cell_type": "code",
   "execution_count": null,
   "metadata": {},
   "outputs": [],
   "source": [
    "assert len(k_means_parallel_models) == 10\n",
    "assert all([not isinstance(i, ray.ObjectID) for i in k_means_parallel_models]), \"Don't forget to call ray.get!\"\n",
    "assert parallel_hp_search_time < 0.75 * serial_hp_search_time"
   ]
  },
  {
   "cell_type": "markdown",
   "metadata": {},
   "source": [
    "### Question 9f\n",
    "\n",
    "Finally, find the training and test errors for each k-means model.\n",
    "\n",
    "Hint: the k-means models have a `score(dataset)` method which returns the model's score on the dataset (larger values are better).\n",
    "For example, `k_means_parallel_models[0].score(training_set)` would return the score for the 0th k-means model on the training set."
   ]
  },
  {
   "cell_type": "code",
   "execution_count": null,
   "metadata": {},
   "outputs": [],
   "source": [
    "# YOUR CODE HERE: compute the training cost and the \n",
    "training_scores = [...]\n",
    "test_scores = [...]\n",
    "\n",
    "### BEGIN SOLUTION ###\n",
    "training_scores = [model.score(training_set) for model in k_means_parallel_models]\n",
    "test_scores = [model.score(test_set) for model in k_means_parallel_models]\n",
    "### END SOLUTION ###"
   ]
  },
  {
   "cell_type": "code",
   "execution_count": null,
   "metadata": {},
   "outputs": [],
   "source": [
    "plt.plot(range(len(training_scores)), training_scores, label=\"training scores\")\n",
    "plt.plot(range(len(test_scores)), test_scores, label=\"test scores\")\n",
    "plt.legend()\n",
    "plt.xlabel(\"Number of clusters\")\n",
    "plt.ylabel(\"Score\")\n",
    "plt.xticks(range(0, 10))\n",
    "plt.title(\"Training and Test Scores of Learned Models\")\n",
    "\n",
    "plt.show()\n",
    "\n",
    "plt.plot(range(3, len(training_errors)), training_errors[3:], label=\"training errors\")\n",
    "plt.plot(range(3, len(test_errors)), test_errors[3:], label=\"test errors\")\n",
    "\n",
    "plt.legend()\n",
    "plt.xlabel(\"Number of Clusters\")\n",
    "plt.ylabel(\"Score\")\n",
    "plt.title(\"Training and Test Scores of Learned Models (Zoomed in)\")\n",
    "\n",
    "plt.show()"
   ]
  },
  {
   "cell_type": "markdown",
   "metadata": {},
   "source": [
    "### Question 9g\n",
    "\n",
    "What's the number of clusters should you choose? Use the graph above to justify. Does this match the number of clusters used to generate the data? Why or why not?"
   ]
  },
  {
   "cell_type": "markdown",
   "metadata": {},
   "source": [
    "YOUR ANSWER HERE"
   ]
  },
  {
   "cell_type": "code",
   "execution_count": null,
   "metadata": {},
   "outputs": [],
   "source": [
    "# Plots labeled clusters for each model\n",
    "plt.figure(figsize=(12, 12))\n",
    "plt.suptitle(\"Cluster Classification for K-Means Models with different Numbers of Clusters\")\n",
    "samples = points[:1000] # Plot only a small sample of the points due to speed of plotting\n",
    "for i, model in enumerate(k_means_parallel_models):\n",
    "    plt.subplot(4, 3, i + 1)\n",
    "    plt.title(\"{} Centers\".format(i + 1))\n",
    "    labels = model.predict(samples)\n",
    "    plt.scatter(samples[:, 0], samples[:, 1], c=labels)\n",
    "    \n",
    "    centroids = model.cluster_centers_\n",
    "    plt.scatter(centroids[:, 0], centroids[:, 1], c=range(len(centroids)), marker=\"*\", s=300, edgecolor=\"cyan\")"
   ]
  },
  {
   "cell_type": "code",
   "execution_count": null,
   "metadata": {},
   "outputs": [],
   "source": []
  }
 ],
 "metadata": {
  "kernelspec": {
   "display_name": "Python 3",
   "language": "python",
   "name": "python3"
  },
  "language_info": {
   "codemirror_mode": {
    "name": "ipython",
    "version": 3
   },
   "file_extension": ".py",
   "mimetype": "text/x-python",
   "name": "python",
   "nbconvert_exporter": "python",
   "pygments_lexer": "ipython3",
   "version": "3.6.4"
  }
 },
 "nbformat": 4,
 "nbformat_minor": 2
}
