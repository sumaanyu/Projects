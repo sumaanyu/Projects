{
 "cells": [
  {
   "cell_type": "code",
   "execution_count": 2,
   "metadata": {},
   "outputs": [],
   "source": [
    "import warnings\n",
    "warnings.filterwarnings(\"ignore\")"
   ]
  },
  {
   "cell_type": "code",
   "execution_count": 3,
   "metadata": {},
   "outputs": [
    {
     "name": "stderr",
     "output_type": "stream",
     "text": [
      "Using TensorFlow backend.\n"
     ]
    }
   ],
   "source": [
    "import numpy as np\n",
    "import pandas as pd\n",
    "import statsmodels.api as sm\n",
    "from scipy import stats\n",
    "from sklearn.metrics import mean_squared_error\n",
    "from math import sqrt\n",
    "from random import randint\n",
    "from keras.models import Sequential\n",
    "from keras.layers import Dense\n",
    "from keras.layers import LSTM\n",
    "from keras.layers import GRU\n",
    "from keras.callbacks import EarlyStopping"
   ]
  },
  {
   "cell_type": "code",
   "execution_count": 4,
   "metadata": {},
   "outputs": [],
   "source": [
    "from keras import initializers\n",
    "from matplotlib import pyplot\n",
    "from datetime import datetime\n",
    "from matplotlib import pyplot as plt"
   ]
  },
  {
   "cell_type": "code",
   "execution_count": 5,
   "metadata": {},
   "outputs": [],
   "source": [
    "from sklearn.preprocessing import MinMaxScaler"
   ]
  },
  {
   "cell_type": "code",
   "execution_count": 6,
   "metadata": {},
   "outputs": [],
   "source": [
    "from datetime import date"
   ]
  },
  {
   "cell_type": "code",
   "execution_count": 7,
   "metadata": {},
   "outputs": [],
   "source": [
    "import plotly.offline as py\n",
    "import plotly.graph_objs as go"
   ]
  },
  {
   "cell_type": "code",
   "execution_count": 8,
   "metadata": {},
   "outputs": [
    {
     "data": {
      "text/html": [
       "<script type=\"text/javascript\">window.PlotlyConfig = {MathJaxConfig: 'local'};</script><script type=\"text/javascript\">if (window.MathJax) {MathJax.Hub.Config({SVG: {font: \"STIX-Web\"}});}</script><script>requirejs.config({paths: { 'plotly': ['https://cdn.plot.ly/plotly-latest.min']},});if(!window._Plotly) {require(['plotly'],function(plotly) {window._Plotly=plotly;});}</script>"
      ],
      "text/vnd.plotly.v1+html": [
       "<script type=\"text/javascript\">window.PlotlyConfig = {MathJaxConfig: 'local'};</script><script type=\"text/javascript\">if (window.MathJax) {MathJax.Hub.Config({SVG: {font: \"STIX-Web\"}});}</script><script>requirejs.config({paths: { 'plotly': ['https://cdn.plot.ly/plotly-latest.min']},});if(!window._Plotly) {require(['plotly'],function(plotly) {window._Plotly=plotly;});}</script>"
      ]
     },
     "metadata": {},
     "output_type": "display_data"
    }
   ],
   "source": [
    "py.init_notebook_mode(connected=True)\n",
    "%matplotlib inline"
   ]
  },
  {
   "cell_type": "code",
   "execution_count": 9,
   "metadata": {},
   "outputs": [],
   "source": [
    "data = pd.read_hdf('data_5m/binance.hdf', 'BTC/USDT').astype(np.float32)"
   ]
  },
  {
   "cell_type": "code",
   "execution_count": 10,
   "metadata": {},
   "outputs": [],
   "source": [
    "data_c = data.set_index('timestamp')"
   ]
  },
  {
   "cell_type": "code",
   "execution_count": 11,
   "metadata": {},
   "outputs": [],
   "source": [
    "data_c = data_c[~data_c.index.duplicated(keep='first')]"
   ]
  },
  {
   "cell_type": "code",
   "execution_count": 12,
   "metadata": {},
   "outputs": [],
   "source": [
    "data_c.index = pd.DatetimeIndex(pd.to_datetime(data_c.index, unit='ms'), freq='infer')"
   ]
  },
  {
   "cell_type": "code",
   "execution_count": 13,
   "metadata": {},
   "outputs": [],
   "source": [
    "data_c = data_c.resample('5min').mean()"
   ]
  },
  {
   "cell_type": "code",
   "execution_count": 14,
   "metadata": {},
   "outputs": [],
   "source": [
    "data_c = data_c.interpolate()"
   ]
  },
  {
   "cell_type": "code",
   "execution_count": 15,
   "metadata": {},
   "outputs": [],
   "source": [
    "data_c = data_c.reset_index()"
   ]
  },
  {
   "cell_type": "code",
   "execution_count": 16,
   "metadata": {},
   "outputs": [],
   "source": [
    "data_c['date'] = data_c['timestamp'].dt.date"
   ]
  },
  {
   "cell_type": "code",
   "execution_count": 17,
   "metadata": {},
   "outputs": [],
   "source": [
    "group = data_c.groupby('date')"
   ]
  },
  {
   "cell_type": "code",
   "execution_count": 18,
   "metadata": {},
   "outputs": [],
   "source": [
    "Daily_Volume =  group['volume'].mean()"
   ]
  },
  {
   "cell_type": "code",
   "execution_count": 19,
   "metadata": {},
   "outputs": [
    {
     "data": {
      "text/plain": [
       "date\n",
       "2017-08-17    3.324117\n",
       "2017-08-18    4.176270\n",
       "2017-08-19    1.361048\n",
       "2017-08-20    1.612014\n",
       "2017-08-21    2.370942\n",
       "Name: volume, dtype: float32"
      ]
     },
     "execution_count": 19,
     "metadata": {},
     "output_type": "execute_result"
    }
   ],
   "source": [
    "Daily_Volume.head()"
   ]
  },
  {
   "cell_type": "markdown",
   "metadata": {},
   "source": [
    "##### training and testing data as a dataframe"
   ]
  },
  {
   "cell_type": "code",
   "execution_count": 20,
   "metadata": {},
   "outputs": [],
   "source": [
    "from sklearn.model_selection import train_test_split"
   ]
  },
  {
   "cell_type": "code",
   "execution_count": 21,
   "metadata": {},
   "outputs": [],
   "source": [
    "df1 = Daily_Volume.to_frame() "
   ]
  },
  {
   "cell_type": "code",
   "execution_count": 22,
   "metadata": {},
   "outputs": [
    {
     "data": {
      "text/html": [
       "<div>\n",
       "<style scoped>\n",
       "    .dataframe tbody tr th:only-of-type {\n",
       "        vertical-align: middle;\n",
       "    }\n",
       "\n",
       "    .dataframe tbody tr th {\n",
       "        vertical-align: top;\n",
       "    }\n",
       "\n",
       "    .dataframe thead th {\n",
       "        text-align: right;\n",
       "    }\n",
       "</style>\n",
       "<table border=\"1\" class=\"dataframe\">\n",
       "  <thead>\n",
       "    <tr style=\"text-align: right;\">\n",
       "      <th></th>\n",
       "      <th>date</th>\n",
       "      <th>volume</th>\n",
       "    </tr>\n",
       "  </thead>\n",
       "  <tbody>\n",
       "    <tr>\n",
       "      <th>0</th>\n",
       "      <td>2017-08-17</td>\n",
       "      <td>3.324117</td>\n",
       "    </tr>\n",
       "    <tr>\n",
       "      <th>1</th>\n",
       "      <td>2017-08-18</td>\n",
       "      <td>4.176270</td>\n",
       "    </tr>\n",
       "    <tr>\n",
       "      <th>2</th>\n",
       "      <td>2017-08-19</td>\n",
       "      <td>1.361048</td>\n",
       "    </tr>\n",
       "    <tr>\n",
       "      <th>3</th>\n",
       "      <td>2017-08-20</td>\n",
       "      <td>1.612014</td>\n",
       "    </tr>\n",
       "    <tr>\n",
       "      <th>4</th>\n",
       "      <td>2017-08-21</td>\n",
       "      <td>2.370942</td>\n",
       "    </tr>\n",
       "  </tbody>\n",
       "</table>\n",
       "</div>"
      ],
      "text/plain": [
       "         date    volume\n",
       "0  2017-08-17  3.324117\n",
       "1  2017-08-18  4.176270\n",
       "2  2017-08-19  1.361048\n",
       "3  2017-08-20  1.612014\n",
       "4  2017-08-21  2.370942"
      ]
     },
     "execution_count": 22,
     "metadata": {},
     "output_type": "execute_result"
    }
   ],
   "source": [
    "working_data = df1\n",
    "working_data = working_data.reset_index()\n",
    "working_data.head()"
   ]
  },
  {
   "cell_type": "markdown",
   "metadata": {},
   "source": [
    "#### 1. Reshaping the train and test set according to the requirements of the model.\n",
    "#### 2. Scaling the dataset by using the MinMaxScaler because LSTM models are scale sensitive."
   ]
  },
  {
   "cell_type": "code",
   "execution_count": 23,
   "metadata": {},
   "outputs": [],
   "source": [
    "scaler = MinMaxScaler()"
   ]
  },
  {
   "cell_type": "code",
   "execution_count": 24,
   "metadata": {},
   "outputs": [],
   "source": [
    "reshaped_working_data = np.reshape(working_data.volume.values, (len(working_data), 1))"
   ]
  },
  {
   "cell_type": "code",
   "execution_count": 25,
   "metadata": {},
   "outputs": [],
   "source": [
    "scaled_reshaped_working_data = scaler.fit_transform(reshaped_working_data)"
   ]
  },
  {
   "cell_type": "code",
   "execution_count": 26,
   "metadata": {},
   "outputs": [],
   "source": [
    "df_train, df_test = train_test_split(scaled_reshaped_working_data, test_size=0.20, shuffle=False)"
   ]
  },
  {
   "cell_type": "code",
   "execution_count": 27,
   "metadata": {},
   "outputs": [],
   "source": [
    "def create_lookback(dataset, look_back=1):\n",
    "    X, Y = [], []\n",
    "    for i in range(len(dataset) - look_back):\n",
    "        a = dataset[i:(i + look_back), 0]\n",
    "        X.append(a)\n",
    "        Y.append(dataset[i + look_back, 0])\n",
    "    return np.array(X), np.array(Y)"
   ]
  },
  {
   "cell_type": "code",
   "execution_count": 28,
   "metadata": {},
   "outputs": [],
   "source": [
    "look_back = 1\n",
    "X_train, Y_train = create_lookback(df_train, look_back)\n",
    "X_test, Y_test = create_lookback(df_test, look_back)"
   ]
  },
  {
   "cell_type": "code",
   "execution_count": 29,
   "metadata": {},
   "outputs": [],
   "source": [
    "X_train = np.reshape(X_train, (len(X_train), 1, X_train.shape[1]))\n",
    "X_test = np.reshape(X_test, (len(X_test), 1, X_test.shape[1]))"
   ]
  },
  {
   "cell_type": "code",
   "execution_count": 30,
   "metadata": {},
   "outputs": [
    {
     "name": "stdout",
     "output_type": "stream",
     "text": [
      "WARNING:tensorflow:From /Users/sumaanyumaheshwari/anaconda3/lib/python3.6/site-packages/tensorflow/python/framework/op_def_library.py:263: colocate_with (from tensorflow.python.framework.ops) is deprecated and will be removed in a future version.\n",
      "Instructions for updating:\n",
      "Colocations handled automatically by placer.\n",
      "WARNING:tensorflow:From /Users/sumaanyumaheshwari/anaconda3/lib/python3.6/site-packages/tensorflow/python/ops/math_ops.py:3066: to_int32 (from tensorflow.python.ops.math_ops) is deprecated and will be removed in a future version.\n",
      "Instructions for updating:\n",
      "Use tf.cast instead.\n",
      "Train on 463 samples, validate on 115 samples\n",
      "Epoch 1/100\n",
      "463/463 [==============================] - 3s 6ms/step - loss: 0.0347 - val_loss: 0.0191\n",
      "Epoch 2/100\n",
      "463/463 [==============================] - 1s 2ms/step - loss: 0.0249 - val_loss: 0.0147\n",
      "Epoch 3/100\n",
      "463/463 [==============================] - 1s 3ms/step - loss: 0.0158 - val_loss: 0.0132\n",
      "Epoch 4/100\n",
      "463/463 [==============================] - 1s 3ms/step - loss: 0.0123 - val_loss: 0.0134\n",
      "Epoch 5/100\n",
      "463/463 [==============================] - 1s 2ms/step - loss: 0.0108 - val_loss: 0.0132\n",
      "Epoch 6/100\n",
      "463/463 [==============================] - 1s 2ms/step - loss: 0.0107 - val_loss: 0.0131\n",
      "Epoch 7/100\n",
      "463/463 [==============================] - 1s 1ms/step - loss: 0.0109 - val_loss: 0.0131\n",
      "Epoch 8/100\n",
      "463/463 [==============================] - 1s 2ms/step - loss: 0.0109 - val_loss: 0.0131\n",
      "Epoch 9/100\n",
      "463/463 [==============================] - 1s 2ms/step - loss: 0.0108 - val_loss: 0.0131\n",
      "Epoch 10/100\n",
      "463/463 [==============================] - 1s 2ms/step - loss: 0.0107 - val_loss: 0.0131\n",
      "Epoch 11/100\n",
      "463/463 [==============================] - 1s 2ms/step - loss: 0.0105 - val_loss: 0.0131\n",
      "Epoch 12/100\n",
      "463/463 [==============================] - 1s 2ms/step - loss: 0.0104 - val_loss: 0.0131\n",
      "Epoch 13/100\n",
      "463/463 [==============================] - 1s 1ms/step - loss: 0.0103 - val_loss: 0.0131\n",
      "Epoch 14/100\n",
      "463/463 [==============================] - 1s 1ms/step - loss: 0.0102 - val_loss: 0.0131\n",
      "Epoch 15/100\n",
      "463/463 [==============================] - 1s 1ms/step - loss: 0.0101 - val_loss: 0.0131\n",
      "Epoch 16/100\n",
      "463/463 [==============================] - 1s 1ms/step - loss: 0.0099 - val_loss: 0.0132\n",
      "Epoch 17/100\n",
      "463/463 [==============================] - 1s 1ms/step - loss: 0.0098 - val_loss: 0.0132\n",
      "Epoch 18/100\n",
      "463/463 [==============================] - 1s 1ms/step - loss: 0.0097 - val_loss: 0.0133\n",
      "Epoch 19/100\n",
      "463/463 [==============================] - 1s 1ms/step - loss: 0.0096 - val_loss: 0.0133\n",
      "Epoch 20/100\n",
      "463/463 [==============================] - 1s 1ms/step - loss: 0.0095 - val_loss: 0.0134\n",
      "Epoch 21/100\n",
      "463/463 [==============================] - 1s 2ms/step - loss: 0.0094 - val_loss: 0.0135\n",
      "Epoch 22/100\n",
      "463/463 [==============================] - 1s 2ms/step - loss: 0.0093 - val_loss: 0.0136\n",
      "Epoch 23/100\n",
      "463/463 [==============================] - 1s 2ms/step - loss: 0.0092 - val_loss: 0.0137\n",
      "Epoch 24/100\n",
      "463/463 [==============================] - 1s 2ms/step - loss: 0.0091 - val_loss: 0.0138\n",
      "Epoch 25/100\n",
      "463/463 [==============================] - 1s 2ms/step - loss: 0.0091 - val_loss: 0.0139\n",
      "Epoch 26/100\n",
      "463/463 [==============================] - 1s 2ms/step - loss: 0.0090 - val_loss: 0.0140\n",
      "Epoch 27/100\n",
      "463/463 [==============================] - 1s 2ms/step - loss: 0.0089 - val_loss: 0.0142\n",
      "Epoch 28/100\n",
      "463/463 [==============================] - 1s 2ms/step - loss: 0.0089 - val_loss: 0.0143\n",
      "Epoch 00028: early stopping\n"
     ]
    }
   ],
   "source": [
    "model = Sequential()\n",
    "model.add(LSTM(256, return_sequences=True, input_shape=(X_train.shape[1], X_train.shape[2])))\n",
    "model.add(LSTM(256))\n",
    "model.add(Dense(1))\n",
    "\n",
    "# compile and fit the model\n",
    "model.compile(loss='mean_squared_error', optimizer='adam')\n",
    "history = model.fit(X_train, Y_train, epochs=100, batch_size=16, shuffle=False, \n",
    "                    validation_data=(X_test, Y_test), \n",
    "                    callbacks = [EarlyStopping(monitor='val_loss', min_delta=5e-5, patience=20, verbose=1)])"
   ]
  },
  {
   "cell_type": "code",
   "execution_count": 31,
   "metadata": {},
   "outputs": [
    {
     "data": {
      "image/png": "[encoded data removed]",
      "text/plain": [
       "<Figure size 432x288 with 1 Axes>"
      ]
     },
     "metadata": {
      "needs_background": "light"
     },
     "output_type": "display_data"
    }
   ],
   "source": [
    "plt.plot(np.arange(0, len(history.history['val_loss']), 1), history.history['val_loss'], '.-',label='Test Loss')\n",
    "plt.plot(np.arange(0, len(history.history['loss']), 1), history.history['loss'], '.-', label='Train Loss')\n",
    "plt.legend()\n",
    "plt.title('Train and Test Loss')\n",
    "plt.ylabel('Loss')\n",
    "plt.xlabel('Epoch Number');"
   ]
  },
  {
   "cell_type": "code",
   "execution_count": 32,
   "metadata": {},
   "outputs": [],
   "source": [
    "xt_mod = np.append(X_test, df_test[-1])"
   ]
  },
  {
   "cell_type": "code",
   "execution_count": 33,
   "metadata": {},
   "outputs": [],
   "source": [
    "xt_mod = np.reshape(xt_mod, (len(xt_mod), 1, 1))"
   ]
  },
  {
   "cell_type": "code",
   "execution_count": 34,
   "metadata": {},
   "outputs": [],
   "source": [
    "prediction = model.predict(xt_mod)"
   ]
  },
  {
   "cell_type": "code",
   "execution_count": 35,
   "metadata": {},
   "outputs": [],
   "source": [
    "pred = scaler.inverse_transform(prediction.reshape(-1, 1))"
   ]
  },
  {
   "cell_type": "code",
   "execution_count": 36,
   "metadata": {},
   "outputs": [],
   "source": [
    "pred = pred[:][1:]"
   ]
  },
  {
   "cell_type": "code",
   "execution_count": 37,
   "metadata": {},
   "outputs": [],
   "source": [
    "y = scaler.inverse_transform(Y_test.reshape(-1, 1))[:]"
   ]
  },
  {
   "cell_type": "code",
   "execution_count": 38,
   "metadata": {},
   "outputs": [
    {
     "name": "stdout",
     "output_type": "stream",
     "text": [
      "Test RMSE: 30.580\n"
     ]
    }
   ],
   "source": [
    "RMSE = sqrt(mean_squared_error(y, pred))\n",
    "print('Test RMSE: %.3f' % RMSE)"
   ]
  },
  {
   "cell_type": "code",
   "execution_count": 39,
   "metadata": {},
   "outputs": [
    {
     "name": "stdout",
     "output_type": "stream",
     "text": [
      "                Test RMSE: 30.580\n"
     ]
    },
    {
     "data": {
      "image/png": "[encoded data removed]",
      "text/plain": [
       "<Figure size 432x288 with 1 Axes>"
      ]
     },
     "metadata": {
      "needs_background": "light"
     },
     "output_type": "display_data"
    }
   ],
   "source": [
    "plt.plot(np.arange(0, len(pred), 1), pred, label = 'Predictions')\n",
    "plt.plot(np.arange(0, len(y), 1), y, label = 'Actual Values')\n",
    "plt.legend()\n",
    "plt.xlabel('Day Number')\n",
    "plt.ylabel('Volume')\n",
    "plt.title('True Volume vs Predicted Volume')\n",
    "RMSE = sqrt(mean_squared_error(y, pred))\n",
    "print('                Test RMSE: %.3f' % RMSE)"
   ]
  },
  {
   "cell_type": "code",
   "execution_count": null,
   "metadata": {},
   "outputs": [],
   "source": []
  },
  {
   "cell_type": "code",
   "execution_count": null,
   "metadata": {},
   "outputs": [],
   "source": []
  }
 ],
 "metadata": {
  "kernelspec": {
   "display_name": "Python 3",
   "language": "python",
   "name": "python3"
  },
  "language_info": {
   "codemirror_mode": {
    "name": "ipython",
    "version": 3
   },
   "file_extension": ".py",
   "mimetype": "text/x-python",
   "name": "python",
   "nbconvert_exporter": "python",
   "pygments_lexer": "ipython3",
   "version": "3.6.8"
  }
 },
 "nbformat": 4,
 "nbformat_minor": 2
}
