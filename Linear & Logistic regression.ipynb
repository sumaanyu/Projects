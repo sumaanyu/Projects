{
 "cells": [
  {
   "cell_type": "markdown",
   "metadata": {},
   "source": [
    "### Linear regression & Logistic regression\n",
    "\n",
    "some exercises on prediction using sklearn. "
   ]
  },
  {
   "cell_type": "code",
   "execution_count": 11,
   "metadata": {
    "collapsed": true
   },
   "outputs": [],
   "source": [
    "from IPython.display import display, Latex, Markdown\n",
    "import seaborn as sns\n",
    "import csv\n",
    "import numpy as np\n",
    "import pandas as pd\n",
    "import matplotlib.pyplot as plt\n",
    "import zipfile\n",
    "from pathlib import Path\n",
    "from sklearn.linear_model import LinearRegression\n",
    "from sklearn.linear_model import LogisticRegression\n",
    "from sklearn.model_selection import train_test_split\n",
    "from sklearn import metrics \n",
    "from sklearn import linear_model\n",
    "from sklearn.metrics import confusion_matrix\n",
    "from sklearn.metrics import precision_score\n",
    "import re\n",
    "from sklearn.model_selection import KFold\n",
    "#from sklearn.cross_validation import KFold\n",
    "from sklearn.model_selection import cross_val_score\n",
    "from sklearn.preprocessing import MinMaxScaler"
   ]
  },
  {
   "cell_type": "markdown",
   "metadata": {},
   "source": [
    "\n",
    "### Data:\n",
    "__Data Source__:\n",
    "Data file is named: __Energy.csv__ \n",
    "\n",
    "The dataset was created by Angeliki Xifara ( Civil/Structural Engineer) and was processed by Athanasios Tsanas, Oxford Centre for Industrial and Applied Mathematics, University of Oxford, UK).\n",
    "\n",
    "__Data Description__:\n",
    "\n",
    "The dataset contains eight attributes of a building (or features, denoted by X1...X8) and response being the heating load on the building, y1. \n",
    "\n",
    "* X1\tRelative Compactness \n",
    "* X2\tSurface Area \n",
    "* X3\tWall Area \n",
    "*  X4\tRoof Area \n",
    "*  X5\tOverall Height \n",
    "* X6\tOrientation \n",
    "*  X7\tGlazing Area \n",
    "*  X8\tGlazing Area Distribution \n",
    "*  y1\tHeating Load \n"
   ]
  },
  {
   "cell_type": "code",
   "execution_count": 12,
   "metadata": {},
   "outputs": [
    {
     "data": {
      "text/html": [
       "<div>\n",
       "<style scoped>\n",
       "    .dataframe tbody tr th:only-of-type {\n",
       "        vertical-align: middle;\n",
       "    }\n",
       "\n",
       "    .dataframe tbody tr th {\n",
       "        vertical-align: top;\n",
       "    }\n",
       "\n",
       "    .dataframe thead th {\n",
       "        text-align: right;\n",
       "    }\n",
       "</style>\n",
       "<table border=\"1\" class=\"dataframe\">\n",
       "  <thead>\n",
       "    <tr style=\"text-align: right;\">\n",
       "      <th></th>\n",
       "      <th>X1</th>\n",
       "      <th>X2</th>\n",
       "      <th>X3</th>\n",
       "      <th>X4</th>\n",
       "      <th>X5</th>\n",
       "      <th>X6</th>\n",
       "      <th>X7</th>\n",
       "      <th>X8</th>\n",
       "      <th>Y1</th>\n",
       "    </tr>\n",
       "  </thead>\n",
       "  <tbody>\n",
       "    <tr>\n",
       "      <th>0</th>\n",
       "      <td>0.98</td>\n",
       "      <td>514.5</td>\n",
       "      <td>294.0</td>\n",
       "      <td>110.25</td>\n",
       "      <td>7.0</td>\n",
       "      <td>2</td>\n",
       "      <td>0.0</td>\n",
       "      <td>0</td>\n",
       "      <td>15.55</td>\n",
       "    </tr>\n",
       "    <tr>\n",
       "      <th>1</th>\n",
       "      <td>0.98</td>\n",
       "      <td>514.5</td>\n",
       "      <td>294.0</td>\n",
       "      <td>110.25</td>\n",
       "      <td>7.0</td>\n",
       "      <td>3</td>\n",
       "      <td>0.0</td>\n",
       "      <td>0</td>\n",
       "      <td>15.55</td>\n",
       "    </tr>\n",
       "    <tr>\n",
       "      <th>2</th>\n",
       "      <td>0.98</td>\n",
       "      <td>514.5</td>\n",
       "      <td>294.0</td>\n",
       "      <td>110.25</td>\n",
       "      <td>7.0</td>\n",
       "      <td>4</td>\n",
       "      <td>0.0</td>\n",
       "      <td>0</td>\n",
       "      <td>15.55</td>\n",
       "    </tr>\n",
       "    <tr>\n",
       "      <th>3</th>\n",
       "      <td>0.98</td>\n",
       "      <td>514.5</td>\n",
       "      <td>294.0</td>\n",
       "      <td>110.25</td>\n",
       "      <td>7.0</td>\n",
       "      <td>5</td>\n",
       "      <td>0.0</td>\n",
       "      <td>0</td>\n",
       "      <td>15.55</td>\n",
       "    </tr>\n",
       "    <tr>\n",
       "      <th>4</th>\n",
       "      <td>0.90</td>\n",
       "      <td>563.5</td>\n",
       "      <td>318.5</td>\n",
       "      <td>122.50</td>\n",
       "      <td>7.0</td>\n",
       "      <td>2</td>\n",
       "      <td>0.0</td>\n",
       "      <td>0</td>\n",
       "      <td>20.84</td>\n",
       "    </tr>\n",
       "  </tbody>\n",
       "</table>\n",
       "</div>"
      ],
      "text/plain": [
       "     X1     X2     X3      X4   X5  X6   X7  X8     Y1\n",
       "0  0.98  514.5  294.0  110.25  7.0   2  0.0   0  15.55\n",
       "1  0.98  514.5  294.0  110.25  7.0   3  0.0   0  15.55\n",
       "2  0.98  514.5  294.0  110.25  7.0   4  0.0   0  15.55\n",
       "3  0.98  514.5  294.0  110.25  7.0   5  0.0   0  15.55\n",
       "4  0.90  563.5  318.5  122.50  7.0   2  0.0   0  20.84"
      ]
     },
     "metadata": {},
     "output_type": "display_data"
    },
    {
     "name": "stdout",
     "output_type": "stream",
     "text": [
      "X1    0\n",
      "X2    0\n",
      "X3    0\n",
      "X4    0\n",
      "X5    0\n",
      "X6    0\n",
      "X7    0\n",
      "X8    0\n",
      "Y1    0\n",
      "dtype: int64\n"
     ]
    },
    {
     "data": {
      "text/html": [
       "<div>\n",
       "<style scoped>\n",
       "    .dataframe tbody tr th:only-of-type {\n",
       "        vertical-align: middle;\n",
       "    }\n",
       "\n",
       "    .dataframe tbody tr th {\n",
       "        vertical-align: top;\n",
       "    }\n",
       "\n",
       "    .dataframe thead th {\n",
       "        text-align: right;\n",
       "    }\n",
       "</style>\n",
       "<table border=\"1\" class=\"dataframe\">\n",
       "  <thead>\n",
       "    <tr style=\"text-align: right;\">\n",
       "      <th></th>\n",
       "      <th>X1</th>\n",
       "      <th>X2</th>\n",
       "      <th>X3</th>\n",
       "      <th>X4</th>\n",
       "      <th>X5</th>\n",
       "      <th>X6</th>\n",
       "      <th>X7</th>\n",
       "      <th>X8</th>\n",
       "      <th>Y1</th>\n",
       "    </tr>\n",
       "  </thead>\n",
       "  <tbody>\n",
       "    <tr>\n",
       "      <th>min</th>\n",
       "      <td>0.6200</td>\n",
       "      <td>514.500</td>\n",
       "      <td>245.0</td>\n",
       "      <td>110.250</td>\n",
       "      <td>3.50</td>\n",
       "      <td>2.00</td>\n",
       "      <td>0.00</td>\n",
       "      <td>0.00</td>\n",
       "      <td>6.0100</td>\n",
       "    </tr>\n",
       "    <tr>\n",
       "      <th>max</th>\n",
       "      <td>0.9800</td>\n",
       "      <td>808.500</td>\n",
       "      <td>416.5</td>\n",
       "      <td>220.500</td>\n",
       "      <td>7.00</td>\n",
       "      <td>5.00</td>\n",
       "      <td>0.40</td>\n",
       "      <td>5.00</td>\n",
       "      <td>43.1000</td>\n",
       "    </tr>\n",
       "    <tr>\n",
       "      <th>25%</th>\n",
       "      <td>0.6825</td>\n",
       "      <td>606.375</td>\n",
       "      <td>294.0</td>\n",
       "      <td>140.875</td>\n",
       "      <td>3.50</td>\n",
       "      <td>2.75</td>\n",
       "      <td>0.10</td>\n",
       "      <td>1.75</td>\n",
       "      <td>12.9925</td>\n",
       "    </tr>\n",
       "    <tr>\n",
       "      <th>50%</th>\n",
       "      <td>0.7500</td>\n",
       "      <td>673.750</td>\n",
       "      <td>318.5</td>\n",
       "      <td>183.750</td>\n",
       "      <td>5.25</td>\n",
       "      <td>3.50</td>\n",
       "      <td>0.25</td>\n",
       "      <td>3.00</td>\n",
       "      <td>18.9500</td>\n",
       "    </tr>\n",
       "    <tr>\n",
       "      <th>75%</th>\n",
       "      <td>0.8300</td>\n",
       "      <td>741.125</td>\n",
       "      <td>343.0</td>\n",
       "      <td>220.500</td>\n",
       "      <td>7.00</td>\n",
       "      <td>4.25</td>\n",
       "      <td>0.40</td>\n",
       "      <td>4.00</td>\n",
       "      <td>31.6675</td>\n",
       "    </tr>\n",
       "  </tbody>\n",
       "</table>\n",
       "</div>"
      ],
      "text/plain": [
       "         X1       X2     X3       X4    X5    X6    X7    X8       Y1\n",
       "min  0.6200  514.500  245.0  110.250  3.50  2.00  0.00  0.00   6.0100\n",
       "max  0.9800  808.500  416.5  220.500  7.00  5.00  0.40  5.00  43.1000\n",
       "25%  0.6825  606.375  294.0  140.875  3.50  2.75  0.10  1.75  12.9925\n",
       "50%  0.7500  673.750  318.5  183.750  5.25  3.50  0.25  3.00  18.9500\n",
       "75%  0.8300  741.125  343.0  220.500  7.00  4.25  0.40  4.00  31.6675"
      ]
     },
     "execution_count": 12,
     "metadata": {},
     "output_type": "execute_result"
    }
   ],
   "source": [
    "df = pd.read_csv('Energy.csv')\n",
    "display(df.head())\n",
    "print(df.isnull().sum())\n",
    "(df.describe()).loc[[\"min\", 'max', '25%', '50%', '75%']]"
   ]
  },
  {
   "cell_type": "markdown",
   "metadata": {},
   "source": [
    " __REGRESSION__:\n",
    "\n",
    "Using the data, we want to predict \"Heating load\". The output variable is continuous. Hence, we need to use a regression algorithm.  \n"
   ]
  },
  {
   "cell_type": "code",
   "execution_count": 13,
   "metadata": {},
   "outputs": [
    {
     "name": "stdout",
     "output_type": "stream",
     "text": [
      "intercept: [84.50671242]\n",
      "coefficient values: [[-6.42688404e+01 -6.28936957e-02  3.67078157e-02 -4.98007557e-02\n",
      "   4.11430910e+00 -1.25900388e-01  1.95157505e+01  1.97512265e-01]]\n"
     ]
    }
   ],
   "source": [
    "#spt = np.random.rand(len(df)) < 0.8\n",
    "#train = df[spt]\n",
    "#test = df[~spt]\n",
    "\n",
    "X = df[['X1','X2','X3','X4','X5','X6','X7','X8']].values\n",
    "y = df[['Y1']].values\n",
    "X_train, X_test, y_train, y_test = train_test_split(X, y, test_size=0.2, random_state = 5)\n",
    "regressor = LinearRegression()  \n",
    "regressor.fit(X_train, y_train) \n",
    "print('intercept:', regressor.intercept_) \n",
    "print('coefficient values:', regressor.coef_) "
   ]
  },
  {
   "cell_type": "code",
   "execution_count": 14,
   "metadata": {},
   "outputs": [
    {
     "name": "stdout",
     "output_type": "stream",
     "text": [
      " training RMSE: 2.879398584299829\n",
      " test RMSE: 3.0865243377757547\n"
     ]
    }
   ],
   "source": [
    "#np.sqrt(metrics.mean_squared_error\n",
    "def RMSE(pred, tar): \n",
    "    return np.sqrt(((pred - tar) ** 2).mean())\n",
    "\n",
    "q1_3_a = RMSE(regressor.predict(X_train), y_train)\n",
    "print(' training RMSE:', q1_3_a)\n",
    "\n",
    "q1_3_b = RMSE(regressor.predict(X_test), y_test)\n",
    "print(' test RMSE:', q1_3_b) "
   ]
  },
  {
   "cell_type": "markdown",
   "metadata": {},
   "source": [
    "Let's see the effect of amount of data on the performance of prediction model. Use varying amounts of data (100,200,300,400,500,all) from the training data used previously to train different regression models."
   ]
  },
  {
   "cell_type": "code",
   "execution_count": 15,
   "metadata": {},
   "outputs": [
    {
     "name": "stdout",
     "output_type": "stream",
     "text": [
      "for 100 data points: (Training)  2.4732686300003306\n",
      "for 100 data points: (Test) 3.232989333096236\n",
      "for 200 data points: (Training)  2.6096844539978488\n",
      "for 200 data points: (Test) 3.1154552276926193\n",
      "for 300 data points: (Training)  2.742879899878274\n",
      "for 300 data points: (Test) 3.09854855135922\n",
      "for 400 data points: (Training)  2.7208194053761376\n",
      "for 400 data points: (Test) 3.1118050044162557\n",
      "for 500 data points: (Training)  2.77902926307626\n",
      "for 500 data points: (Test) 3.10044099031993\n",
      "for all data points: (Training)  2.879398584299829\n",
      "for all data points: (Test) 3.0865243377757547\n",
      "\n",
      "the more data I have, my error increases\n"
     ]
    },
    {
     "data": {
      "image/png": "[encoded data removed]",
      "text/plain": [
       "<matplotlib.figure.Figure at 0x1a15e5bd68>"
      ]
     },
     "metadata": {},
     "output_type": "display_data"
    }
   ],
   "source": [
    "regressor.fit(X_train[:100], y_train[:100]) \n",
    "xtr1 = RMSE(regressor.predict(X_test), y_test)\n",
    "x1 = RMSE(regressor.predict(X_train[:100]), y_train[:100])\n",
    "print(\"for 100 data points: (Training) \", x1)\n",
    "print('for 100 data points: (Test)', xtr1) \n",
    "regressor.fit(X_train[:200], y_train[:200]) \n",
    "x2 = RMSE(regressor.predict(X_train[:200]), y_train[:200])\n",
    "xtr2 = RMSE(regressor.predict(X_test), y_test)\n",
    "print(\"for 200 data points: (Training) \", x2)\n",
    "print('for 200 data points: (Test)', RMSE(regressor.predict(X_test), y_test)) \n",
    "regressor.fit(X_train[:300], y_train[:300]) \n",
    "x3 = RMSE(regressor.predict(X_train[:300]), y_train[:300])\n",
    "xtr3 = RMSE(regressor.predict(X_test), y_test)\n",
    "print(\"for 300 data points: (Training) \", x3)\n",
    "print('for 300 data points: (Test)', RMSE(regressor.predict(X_test), y_test))\n",
    "regressor.fit(X_train[:400], y_train[:400]) \n",
    "x4 = RMSE(regressor.predict(X_train[:400]), y_train[:400])\n",
    "xtr4 = RMSE(regressor.predict(X_test), y_test)\n",
    "print(\"for 400 data points: (Training) \", x4)\n",
    "print('for 400 data points: (Test)', RMSE(regressor.predict(X_test), y_test)) \n",
    "regressor.fit(X_train[:500], y_train[:500]) \n",
    "x5 = RMSE(regressor.predict(X_train[:500]), y_train[:500])\n",
    "xtr5 = RMSE(regressor.predict(X_test), y_test)\n",
    "print(\"for 500 data points: (Training) \", x5)\n",
    "print('for 500 data points: (Test)', RMSE(regressor.predict(X_test), y_test)) \n",
    "regressor.fit(X_train, y_train) \n",
    "xall = RMSE(regressor.predict(X_train), y_train)\n",
    "xtrall = RMSE(regressor.predict(X_test), y_test)\n",
    "print(\"for all data points: (Training) \", xall)\n",
    "print('for all data points: (Test)', RMSE(regressor.predict(X_test), y_test)) \n",
    "print()\n",
    "print(\"the more data I have, my error increases\")\n",
    "\n",
    "value = [x1, x2, x3, x4, x5, xall]\n",
    "value2 = [xtr1, xtr2, xtr3, xtr4, xtr5, xtrall,]\n",
    "nums = [100, 200, 300, 400, 500, len(X_train)]\n",
    "\n",
    "\n",
    "plt.plot(nums, value, label = 'train')\n",
    "plt.plot(nums, value2, label = 'test')\n",
    "plt.legend()\n",
    "plt.show()"
   ]
  },
  {
   "cell_type": "markdown",
   "metadata": {},
   "source": [
    "\n",
    "__CLASSIFICATION__:\n",
    "LABELS ARE DISCRETE VALUES.\n",
    "\n",
    "Here the model is trained to classify each instance into a set of predefined discrete classes. On inputting a feature vector into the model, the trained model is able to predict a class of that instance.\n",
    "\n",
    "Bucket the values of 'y1' i.e 'Heating Load'  from the original dataset into 3 classes:\n",
    "\n",
    "0: 'Low' ( < 14),   \n",
    "1: 'Medium'  (14-28),   \n",
    "2: 'High'  (>28)\n"
   ]
  },
  {
   "cell_type": "code",
   "execution_count": 16,
   "metadata": {},
   "outputs": [
    {
     "data": {
      "text/html": [
       "<div>\n",
       "<style scoped>\n",
       "    .dataframe tbody tr th:only-of-type {\n",
       "        vertical-align: middle;\n",
       "    }\n",
       "\n",
       "    .dataframe tbody tr th {\n",
       "        vertical-align: top;\n",
       "    }\n",
       "\n",
       "    .dataframe thead th {\n",
       "        text-align: right;\n",
       "    }\n",
       "</style>\n",
       "<table border=\"1\" class=\"dataframe\">\n",
       "  <thead>\n",
       "    <tr style=\"text-align: right;\">\n",
       "      <th></th>\n",
       "      <th>X1</th>\n",
       "      <th>X2</th>\n",
       "      <th>X3</th>\n",
       "      <th>X4</th>\n",
       "      <th>X5</th>\n",
       "      <th>X6</th>\n",
       "      <th>X7</th>\n",
       "      <th>X8</th>\n",
       "      <th>Y1</th>\n",
       "      <th>class</th>\n",
       "    </tr>\n",
       "  </thead>\n",
       "  <tbody>\n",
       "    <tr>\n",
       "      <th>0</th>\n",
       "      <td>0.98</td>\n",
       "      <td>514.5</td>\n",
       "      <td>294.0</td>\n",
       "      <td>110.25</td>\n",
       "      <td>7.0</td>\n",
       "      <td>2</td>\n",
       "      <td>0.0</td>\n",
       "      <td>0</td>\n",
       "      <td>15.55</td>\n",
       "      <td>Medium</td>\n",
       "    </tr>\n",
       "    <tr>\n",
       "      <th>1</th>\n",
       "      <td>0.98</td>\n",
       "      <td>514.5</td>\n",
       "      <td>294.0</td>\n",
       "      <td>110.25</td>\n",
       "      <td>7.0</td>\n",
       "      <td>3</td>\n",
       "      <td>0.0</td>\n",
       "      <td>0</td>\n",
       "      <td>15.55</td>\n",
       "      <td>Medium</td>\n",
       "    </tr>\n",
       "    <tr>\n",
       "      <th>2</th>\n",
       "      <td>0.98</td>\n",
       "      <td>514.5</td>\n",
       "      <td>294.0</td>\n",
       "      <td>110.25</td>\n",
       "      <td>7.0</td>\n",
       "      <td>4</td>\n",
       "      <td>0.0</td>\n",
       "      <td>0</td>\n",
       "      <td>15.55</td>\n",
       "      <td>Medium</td>\n",
       "    </tr>\n",
       "    <tr>\n",
       "      <th>3</th>\n",
       "      <td>0.98</td>\n",
       "      <td>514.5</td>\n",
       "      <td>294.0</td>\n",
       "      <td>110.25</td>\n",
       "      <td>7.0</td>\n",
       "      <td>5</td>\n",
       "      <td>0.0</td>\n",
       "      <td>0</td>\n",
       "      <td>15.55</td>\n",
       "      <td>Medium</td>\n",
       "    </tr>\n",
       "    <tr>\n",
       "      <th>4</th>\n",
       "      <td>0.90</td>\n",
       "      <td>563.5</td>\n",
       "      <td>318.5</td>\n",
       "      <td>122.50</td>\n",
       "      <td>7.0</td>\n",
       "      <td>2</td>\n",
       "      <td>0.0</td>\n",
       "      <td>0</td>\n",
       "      <td>20.84</td>\n",
       "      <td>Medium</td>\n",
       "    </tr>\n",
       "  </tbody>\n",
       "</table>\n",
       "</div>"
      ],
      "text/plain": [
       "     X1     X2     X3      X4   X5  X6   X7  X8     Y1   class\n",
       "0  0.98  514.5  294.0  110.25  7.0   2  0.0   0  15.55  Medium\n",
       "1  0.98  514.5  294.0  110.25  7.0   3  0.0   0  15.55  Medium\n",
       "2  0.98  514.5  294.0  110.25  7.0   4  0.0   0  15.55  Medium\n",
       "3  0.98  514.5  294.0  110.25  7.0   5  0.0   0  15.55  Medium\n",
       "4  0.90  563.5  318.5  122.50  7.0   2  0.0   0  20.84  Medium"
      ]
     },
     "execution_count": 16,
     "metadata": {},
     "output_type": "execute_result"
    }
   ],
   "source": [
    "df['class'] = pd.cut(df[\"Y1\"], [0,14,28, np.inf], include_lowest = True, labels = [\"Low\", 'Medium', 'High'])\n",
    "df.head()"
   ]
  },
  {
   "cell_type": "code",
   "execution_count": 17,
   "metadata": {},
   "outputs": [
    {
     "data": {
      "text/plain": [
       "LogisticRegression(C=1.0, class_weight=None, dual=False, fit_intercept=True,\n",
       "          intercept_scaling=1, max_iter=100, multi_class='ovr', n_jobs=1,\n",
       "          penalty='l2', random_state=None, solver='liblinear', tol=0.0001,\n",
       "          verbose=0, warm_start=False)"
      ]
     },
     "execution_count": 17,
     "metadata": {},
     "output_type": "execute_result"
    }
   ],
   "source": [
    "X = df[['X1','X2','X3','X4','X5','X6','X7','X8']]\n",
    "y = df['class']\n",
    "X_train, X_test, y_train, y_test = train_test_split(X, y, test_size=0.2, random_state = 5)\n",
    "LogisticRegressionModel = linear_model.LogisticRegression()\n",
    "LogisticRegressionModel.fit(X_train, y_train) "
   ]
  },
  {
   "cell_type": "markdown",
   "metadata": {},
   "source": [
    "- Print the training and test accuracies\n",
    "- Print the confusion matrix\n",
    "- Print the precision and recall numbers for all the classes\n"
   ]
  },
  {
   "cell_type": "code",
   "execution_count": 18,
   "metadata": {},
   "outputs": [
    {
     "name": "stdout",
     "output_type": "stream",
     "text": [
      "Training Accuracy: 0.8078175895765473\n",
      "Test Accuracy: 0.7857142857142857\n",
      "\n",
      "Confusion matrix of test data is: \n",
      "                Predicted Low  Predicted Medium  Predicted High\n",
      "Actual Low                56                 0               0\n",
      "Actual Medium              0                40               1\n",
      "Actual High               21                11              25\n",
      "\n",
      "Average precision for the 3 classes is -  [0.72727273 0.78431373 0.96153846]\n",
      "\n",
      "Average recall for the 3 classes is -  [1.         0.97560976 0.43859649]\n"
     ]
    }
   ],
   "source": [
    "training_accuracy=LogisticRegressionModel.score(X_train,y_train)\n",
    "print ('Training Accuracy:',training_accuracy)\n",
    "test_accuracy=LogisticRegressionModel.score(X_test,y_test)\n",
    "print ('Test Accuracy:',test_accuracy) \n",
    "print()\n",
    "y_true = y_test\n",
    "y_pred = LogisticRegressionModel.predict(X_test)\n",
    "ConfusionMatrix=pd.DataFrame(confusion_matrix(y_true, y_pred),columns=['Predicted Low','Predicted Medium','Predicted High'],index=['Actual Low','Actual Medium','Actual High'])\n",
    "print ('Confusion matrix of test data is: \\n',ConfusionMatrix)\n",
    "print()\n",
    "print(\"Average precision for the 3 classes is - \", precision_score(y_true, y_pred, average = None))\n",
    "print()\n",
    "from sklearn.metrics import recall_score\n",
    "print(\"Average recall for the 3 classes is - \", recall_score(y_true, y_pred, average = None))"
   ]
  },
  {
   "cell_type": "markdown",
   "metadata": {},
   "source": [
    "##### K Fold Cross Validation\n",
    "\n",
    " In k-fold cross-validation, the shuffled training data is partitioned into k disjoint sets and the model is trained on k −1 sets and validated on the kth set. This process is repeated k times with each set chosen as the validation set once. The cross-validation accuracy is reported as the average accuracy of the k iterations\n"
   ]
  },
  {
   "cell_type": "code",
   "execution_count": 19,
   "metadata": {},
   "outputs": [
    {
     "name": "stdout",
     "output_type": "stream",
     "text": [
      "Cross-validated scores: [0.80909091 0.77272727 0.7        0.84545455 0.80909091 0.81651376\n",
      " 0.80733945]\n"
     ]
    },
    {
     "data": {
      "text/plain": [
       "0.7943166924818301"
      ]
     },
     "execution_count": 19,
     "metadata": {},
     "output_type": "execute_result"
    }
   ],
   "source": [
    "X = df[['X1','X2','X3','X4','X5','X6','X7','X8']]\n",
    "y = df['class']\n",
    "F = KFold(n_splits=7, random_state=5, shuffle = True) \n",
    "LM = linear_model.LogisticRegression()\n",
    "scores = cross_val_score(LM, X, y, cv = F)\n",
    "print('Cross-validated scores:', scores)  \n",
    "np.mean(scores)"
   ]
  },
  {
   "cell_type": "markdown",
   "metadata": {},
   "source": [
    "One of the preprocessing steps in Data science is Feature Scaling i.e getting all our data on the same scale by setting same  Min-Max of feature values. \n",
    "This makes training less sensitive to the scale of features . \n",
    "Scaling is important in algorithms that use distance functions as a part of classification. If we Scale features in the range [0,1] it is called unity based normalization.\n",
    "\n",
    "__Performing unity based normalization on the above dataset and train the model "
   ]
  },
  {
   "cell_type": "code",
   "execution_count": 20,
   "metadata": {
    "collapsed": true
   },
   "outputs": [],
   "source": [
    "from sklearn import preprocessing\n",
    "min_max_scaler = preprocessing.MinMaxScaler()"
   ]
  },
  {
   "cell_type": "code",
   "execution_count": 21,
   "metadata": {},
   "outputs": [
    {
     "name": "stdout",
     "output_type": "stream",
     "text": [
      "Training Accuracy: 0.8061889250814332\n",
      "Test Accuracy: 0.8311688311688312\n",
      "\n",
      "Confusion matrix of test data is: \n",
      "                Predicted Low  Predicted Medium  Predicted High\n",
      "Actual Low                56                 0               0\n",
      "Actual Medium              0                39               2\n",
      "Actual High               20                 4              33\n",
      "\n",
      "Average precision for the 3 classes is -  [0.73684211 0.90697674 0.94285714]\n",
      "\n",
      "Average recall for the 3 classes is -  [1.         0.95121951 0.57894737]\n"
     ]
    }
   ],
   "source": [
    "y = df['class']\n",
    "X = df[['X1','X2','X3','X4','X5','X6','X7','X8']]\n",
    "X_train, X_test, y_train, y_test = train_test_split(X, y, test_size=0.2, random_state = 5)\n",
    "X_train_minmax = min_max_scaler.fit_transform(X_train)\n",
    "X_test_minmax = min_max_scaler.fit_transform(X_test)\n",
    "LogisticRegressionModel = linear_model.LogisticRegression()\n",
    "LogisticRegressionModel.fit(X_train_minmax, y_train) \n",
    "training_accuracy=LogisticRegressionModel.score(X_train_minmax,y_train)\n",
    "print ('Training Accuracy:',training_accuracy) \n",
    "test_accuracy=LogisticRegressionModel.score(X_test_minmax,y_test)\n",
    "print ('Test Accuracy:',test_accuracy) \n",
    "print()\n",
    "y_true = y_test\n",
    "y_pred = LogisticRegressionModel.predict(X_test_minmax)\n",
    "ConfusionMatrix=pd.DataFrame(confusion_matrix(y_true, y_pred),columns=['Predicted Low','Predicted Medium','Predicted High'],index=['Actual Low','Actual Medium','Actual High'])\n",
    "print ('Confusion matrix of test data is: \\n',ConfusionMatrix)\n",
    "print()\n",
    "print(\"Average precision for the 3 classes is - \", precision_score(y_true, y_pred, average = None))\n",
    "print()\n",
    "from sklearn.metrics import recall_score\n",
    "print(\"Average recall for the 3 classes is - \", recall_score(y_true, y_pred, average = None))"
   ]
  },
  {
   "cell_type": "code",
   "execution_count": 26,
   "metadata": {},
   "outputs": [
    {
     "name": "stdout",
     "output_type": "stream",
     "text": [
      "It works significantly better as compared to q2.2 for the test accuracy but the training accuracy is very slightly worse. It was 0.8078175895765473 for Training Accuracy before and 0.7857142857142857 Test Accuracy before.\n"
     ]
    },
    {
     "data": {
      "text/plain": [
       "'But if I change my random state to say a 100 I cansee my accuracies improve a lot. '"
      ]
     },
     "execution_count": 26,
     "metadata": {},
     "output_type": "execute_result"
    }
   ],
   "source": [
    "print(\"It works significantly better as compared to q2.2 for the test accuracy but the training accuracy is very slightly worse. It was 0.8078175895765473 for Training Accuracy before and 0.7857142857142857 Test Accuracy before.\" )\n",
    "\"But if I change my random state to say a 100 I cansee my accuracies improve a lot. \""
   ]
  }
 ],
 "metadata": {
  "kernel_info": {
   "name": "data-x"
  },
  "kernelspec": {
   "display_name": "Python 3",
   "language": "python",
   "name": "python3"
  },
  "language_info": {
   "codemirror_mode": {
    "name": "ipython",
    "version": 3
   },
   "file_extension": ".py",
   "mimetype": "text/x-python",
   "name": "python",
   "nbconvert_exporter": "python",
   "pygments_lexer": "ipython3",
   "version": "3.6.8"
  },
  "nteract": {
   "version": "0.7.1"
  }
 },
 "nbformat": 4,
 "nbformat_minor": 2
}
